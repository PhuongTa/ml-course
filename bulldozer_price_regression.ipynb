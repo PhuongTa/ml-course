{
  "nbformat": 4,
  "nbformat_minor": 0,
  "metadata": {
    "colab": {
      "provenance": [],
      "mount_file_id": "1j4OVX6e2jbOo3P4F0Abh8aB3A5vfhuTq",
      "authorship_tag": "ABX9TyPBnS1eYtIOSOqvRsTYaG32",
      "include_colab_link": true
    },
    "kernelspec": {
      "name": "python3",
      "display_name": "Python 3"
    },
    "language_info": {
      "name": "python"
    }
  },
  "cells": [
    {
      "cell_type": "markdown",
      "metadata": {
        "id": "view-in-github",
        "colab_type": "text"
      },
      "source": [
        "<a href=\"https://colab.research.google.com/github/PhuongTa/ml-course/blob/main/bulldozer_price_regression.ipynb\" target=\"_parent\"><img src=\"https://colab.research.google.com/assets/colab-badge.svg\" alt=\"Open In Colab\"/></a>"
      ]
    },
    {
      "cell_type": "markdown",
      "source": [
        "# Predicting the Sale Price of Bulldozers using ML\n",
        "\n",
        "In this notebook, we're going to go through an example ml project with the goal of predicting the sale price of bulldozers\n",
        "\n",
        "## 1. Problem definition\n",
        "\n",
        "> How well can we predict the future sale price of a bulldozer, given its characteristics and previous examples of how much similar bulldozers have been sold for?\n",
        "\n",
        "## 2. Data\n",
        "\n",
        "The data is downloaded from the Kaggle Bluebook Bulldozers competition:\n",
        "\n",
        "The data for this competition is split into three parts:\n",
        "\n",
        "* Train.csv is the training set, which contains data through the end of 2011.\n",
        "* Valid.csv is the validation set, which contains data from January 1, 2012 - April 30, 2012 You make predictions on this set throughout the majority of the competition. Your score on this set is used to create the public leaderboard.\n",
        "* Test.csv is the test set, which won't be released until the last week of the competition. It contains data from May 1, 2012 - November 2012. Your score on the test set determines your final rank for the competition.\n",
        "\n",
        "## 3. Evaluation\n",
        "\n",
        "The evaluation metric for this competition is the RMSLE (root mean squared log error) between the actual and predicted auction prices.\n",
        "\n",
        "For more on the evaluation of this project check: https://www.kaggle.com/c/bluebook-for-bulldozers\n",
        "\n",
        "**Note:** The goal for most regression evaluation metrics is to minimize the error. For example, our goal for this project will be to build a machine learning model which minimises RMSLE.\n",
        "\n",
        "## 4. Features\n",
        "\n",
        "Kaggle provides a data dictionnary detailing all of the features of the dataset. You can view this data dictionary on Google Sheets: https://docs.google.com/spreadsheets/d/12BTZb17-YyC_m_xJ8742sKrT7SQyVTxZ/edit?usp=sharing&ouid=117675940379990159875&rtpof=true&sd=true"
      ],
      "metadata": {
        "id": "FJJklTa3zYk9"
      }
    },
    {
      "cell_type": "markdown",
      "source": [
        "## EDA"
      ],
      "metadata": {
        "id": "hMstsHuDNU2f"
      }
    },
    {
      "cell_type": "code",
      "execution_count": null,
      "metadata": {
        "id": "oMZDVxmKy-xL"
      },
      "outputs": [],
      "source": [
        "# import libraries\n",
        "import numpy as np\n",
        "import pandas as pd\n",
        "import matplotlib.pyplot as plt\n",
        "import sklearn"
      ]
    },
    {
      "cell_type": "markdown",
      "source": [
        "## Parsing dates\n",
        "\n",
        "When we work with time series data, we want to enrich the time & date component as much as possible.\n",
        "\n",
        "We can do that by telling pandas which of our columns has dates in it using the `parse date` parameter.\n"
      ],
      "metadata": {
        "id": "7Q-Umic5Px8_"
      }
    },
    {
      "cell_type": "code",
      "source": [
        "# Import data again but this time parse dates\n",
        "df = pd.read_csv(\"/content/drive/MyDrive/ml-course/data/bulldozers/TrainAndValid.csv\", \n",
        "                 low_memory=False,\n",
        "                 parse_dates=['saledate'])"
      ],
      "metadata": {
        "id": "mstlPvEBPZw5"
      },
      "execution_count": null,
      "outputs": []
    },
    {
      "cell_type": "code",
      "source": [
        "df.saledate.dtype"
      ],
      "metadata": {
        "colab": {
          "base_uri": "https://localhost:8080/"
        },
        "id": "ENkqgkuBQy_I",
        "outputId": "8e855557-fc5d-4c2d-fbfc-cf3c0437e6b9"
      },
      "execution_count": null,
      "outputs": [
        {
          "output_type": "execute_result",
          "data": {
            "text/plain": [
              "dtype('<M8[ns]')"
            ]
          },
          "metadata": {},
          "execution_count": 15
        }
      ]
    },
    {
      "cell_type": "code",
      "source": [
        "df.saledate[:5]"
      ],
      "metadata": {
        "colab": {
          "base_uri": "https://localhost:8080/"
        },
        "id": "Q7MiTn0qQ6uk",
        "outputId": "c582db5e-b142-4183-e93b-579fb918a0ac"
      },
      "execution_count": null,
      "outputs": [
        {
          "output_type": "execute_result",
          "data": {
            "text/plain": [
              "0   2006-11-16\n",
              "1   2004-03-26\n",
              "2   2004-02-26\n",
              "3   2011-05-19\n",
              "4   2009-07-23\n",
              "Name: saledate, dtype: datetime64[ns]"
            ]
          },
          "metadata": {},
          "execution_count": 16
        }
      ]
    },
    {
      "cell_type": "code",
      "source": [
        "fig, ax = plt.subplots()\n",
        "ax.scatter(df['saledate'][:1000], df[\"SalePrice\"][:1000]);"
      ],
      "metadata": {
        "colab": {
          "base_uri": "https://localhost:8080/",
          "height": 265
        },
        "id": "vcsAgDFsRAfq",
        "outputId": "42a66726-78c4-49ee-abee-07c4751c62f0"
      },
      "execution_count": null,
      "outputs": [
        {
          "output_type": "display_data",
          "data": {
            "text/plain": [
              "<Figure size 432x288 with 1 Axes>"
            ],
            "image/png": "[encoded data removed]"
          },
          "metadata": {
            "needs_background": "light"
          }
        }
      ]
    },
    {
      "cell_type": "code",
      "source": [
        "df.head().T"
      ],
      "metadata": {
        "colab": {
          "base_uri": "https://localhost:8080/",
          "height": 1000
        },
        "id": "qohkhZJJRktt",
        "outputId": "767eae4a-d9b0-4413-c9c4-0753d12f5820"
      },
      "execution_count": null,
      "outputs": [
        {
          "output_type": "execute_result",
          "data": {
            "text/plain": [
              "                                                                 0  \\\n",
              "SalesID                                                    1139246   \n",
              "SalePrice                                                  66000.0   \n",
              "MachineID                                                   999089   \n",
              "ModelID                                                       3157   \n",
              "datasource                                                     121   \n",
              "auctioneerID                                                   3.0   \n",
              "YearMade                                                      2004   \n",
              "MachineHoursCurrentMeter                                      68.0   \n",
              "UsageBand                                                      Low   \n",
              "saledate                                       2006-11-16 00:00:00   \n",
              "fiModelDesc                                                   521D   \n",
              "fiBaseModel                                                    521   \n",
              "fiSecondaryDesc                                                  D   \n",
              "fiModelSeries                                                  NaN   \n",
              "fiModelDescriptor                                              NaN   \n",
              "ProductSize                                                    NaN   \n",
              "fiProductClassDesc        Wheel Loader - 110.0 to 120.0 Horsepower   \n",
              "state                                                      Alabama   \n",
              "ProductGroup                                                    WL   \n",
              "ProductGroupDesc                                      Wheel Loader   \n",
              "Drive_System                                                   NaN   \n",
              "Enclosure                                               EROPS w AC   \n",
              "Forks                                          None or Unspecified   \n",
              "Pad_Type                                                       NaN   \n",
              "Ride_Control                                   None or Unspecified   \n",
              "Stick                                                          NaN   \n",
              "Transmission                                                   NaN   \n",
              "Turbocharged                                                   NaN   \n",
              "Blade_Extension                                                NaN   \n",
              "Blade_Width                                                    NaN   \n",
              "Enclosure_Type                                                 NaN   \n",
              "Engine_Horsepower                                              NaN   \n",
              "Hydraulics                                                 2 Valve   \n",
              "Pushblock                                                      NaN   \n",
              "Ripper                                                         NaN   \n",
              "Scarifier                                                      NaN   \n",
              "Tip_Control                                                    NaN   \n",
              "Tire_Size                                      None or Unspecified   \n",
              "Coupler                                        None or Unspecified   \n",
              "Coupler_System                                                 NaN   \n",
              "Grouser_Tracks                                                 NaN   \n",
              "Hydraulics_Flow                                                NaN   \n",
              "Track_Type                                                     NaN   \n",
              "Undercarriage_Pad_Width                                        NaN   \n",
              "Stick_Length                                                   NaN   \n",
              "Thumb                                                          NaN   \n",
              "Pattern_Changer                                                NaN   \n",
              "Grouser_Type                                                   NaN   \n",
              "Backhoe_Mounting                                               NaN   \n",
              "Blade_Type                                                     NaN   \n",
              "Travel_Controls                                                NaN   \n",
              "Differential_Type                                         Standard   \n",
              "Steering_Controls                                     Conventional   \n",
              "\n",
              "                                                                 1  \\\n",
              "SalesID                                                    1139248   \n",
              "SalePrice                                                  57000.0   \n",
              "MachineID                                                   117657   \n",
              "ModelID                                                         77   \n",
              "datasource                                                     121   \n",
              "auctioneerID                                                   3.0   \n",
              "YearMade                                                      1996   \n",
              "MachineHoursCurrentMeter                                    4640.0   \n",
              "UsageBand                                                      Low   \n",
              "saledate                                       2004-03-26 00:00:00   \n",
              "fiModelDesc                                                 950FII   \n",
              "fiBaseModel                                                    950   \n",
              "fiSecondaryDesc                                                  F   \n",
              "fiModelSeries                                                   II   \n",
              "fiModelDescriptor                                              NaN   \n",
              "ProductSize                                                 Medium   \n",
              "fiProductClassDesc        Wheel Loader - 150.0 to 175.0 Horsepower   \n",
              "state                                               North Carolina   \n",
              "ProductGroup                                                    WL   \n",
              "ProductGroupDesc                                      Wheel Loader   \n",
              "Drive_System                                                   NaN   \n",
              "Enclosure                                               EROPS w AC   \n",
              "Forks                                          None or Unspecified   \n",
              "Pad_Type                                                       NaN   \n",
              "Ride_Control                                   None or Unspecified   \n",
              "Stick                                                          NaN   \n",
              "Transmission                                                   NaN   \n",
              "Turbocharged                                                   NaN   \n",
              "Blade_Extension                                                NaN   \n",
              "Blade_Width                                                    NaN   \n",
              "Enclosure_Type                                                 NaN   \n",
              "Engine_Horsepower                                              NaN   \n",
              "Hydraulics                                                 2 Valve   \n",
              "Pushblock                                                      NaN   \n",
              "Ripper                                                         NaN   \n",
              "Scarifier                                                      NaN   \n",
              "Tip_Control                                                    NaN   \n",
              "Tire_Size                                                     23.5   \n",
              "Coupler                                        None or Unspecified   \n",
              "Coupler_System                                                 NaN   \n",
              "Grouser_Tracks                                                 NaN   \n",
              "Hydraulics_Flow                                                NaN   \n",
              "Track_Type                                                     NaN   \n",
              "Undercarriage_Pad_Width                                        NaN   \n",
              "Stick_Length                                                   NaN   \n",
              "Thumb                                                          NaN   \n",
              "Pattern_Changer                                                NaN   \n",
              "Grouser_Type                                                   NaN   \n",
              "Backhoe_Mounting                                               NaN   \n",
              "Blade_Type                                                     NaN   \n",
              "Travel_Controls                                                NaN   \n",
              "Differential_Type                                         Standard   \n",
              "Steering_Controls                                     Conventional   \n",
              "\n",
              "                                                                          2  \\\n",
              "SalesID                                                             1139249   \n",
              "SalePrice                                                           10000.0   \n",
              "MachineID                                                            434808   \n",
              "ModelID                                                                7009   \n",
              "datasource                                                              121   \n",
              "auctioneerID                                                            3.0   \n",
              "YearMade                                                               2001   \n",
              "MachineHoursCurrentMeter                                             2838.0   \n",
              "UsageBand                                                              High   \n",
              "saledate                                                2004-02-26 00:00:00   \n",
              "fiModelDesc                                                             226   \n",
              "fiBaseModel                                                             226   \n",
              "fiSecondaryDesc                                                         NaN   \n",
              "fiModelSeries                                                           NaN   \n",
              "fiModelDescriptor                                                       NaN   \n",
              "ProductSize                                                             NaN   \n",
              "fiProductClassDesc        Skid Steer Loader - 1351.0 to 1601.0 Lb Operat...   \n",
              "state                                                              New York   \n",
              "ProductGroup                                                            SSL   \n",
              "ProductGroupDesc                                         Skid Steer Loaders   \n",
              "Drive_System                                                            NaN   \n",
              "Enclosure                                                             OROPS   \n",
              "Forks                                                   None or Unspecified   \n",
              "Pad_Type                                                                NaN   \n",
              "Ride_Control                                                            NaN   \n",
              "Stick                                                                   NaN   \n",
              "Transmission                                                            NaN   \n",
              "Turbocharged                                                            NaN   \n",
              "Blade_Extension                                                         NaN   \n",
              "Blade_Width                                                             NaN   \n",
              "Enclosure_Type                                                          NaN   \n",
              "Engine_Horsepower                                                       NaN   \n",
              "Hydraulics                                                        Auxiliary   \n",
              "Pushblock                                                               NaN   \n",
              "Ripper                                                                  NaN   \n",
              "Scarifier                                                               NaN   \n",
              "Tip_Control                                                             NaN   \n",
              "Tire_Size                                                               NaN   \n",
              "Coupler                                                 None or Unspecified   \n",
              "Coupler_System                                          None or Unspecified   \n",
              "Grouser_Tracks                                          None or Unspecified   \n",
              "Hydraulics_Flow                                                    Standard   \n",
              "Track_Type                                                              NaN   \n",
              "Undercarriage_Pad_Width                                                 NaN   \n",
              "Stick_Length                                                            NaN   \n",
              "Thumb                                                                   NaN   \n",
              "Pattern_Changer                                                         NaN   \n",
              "Grouser_Type                                                            NaN   \n",
              "Backhoe_Mounting                                                        NaN   \n",
              "Blade_Type                                                              NaN   \n",
              "Travel_Controls                                                         NaN   \n",
              "Differential_Type                                                       NaN   \n",
              "Steering_Controls                                                       NaN   \n",
              "\n",
              "                                                                          3  \\\n",
              "SalesID                                                             1139251   \n",
              "SalePrice                                                           38500.0   \n",
              "MachineID                                                           1026470   \n",
              "ModelID                                                                 332   \n",
              "datasource                                                              121   \n",
              "auctioneerID                                                            3.0   \n",
              "YearMade                                                               2001   \n",
              "MachineHoursCurrentMeter                                             3486.0   \n",
              "UsageBand                                                              High   \n",
              "saledate                                                2011-05-19 00:00:00   \n",
              "fiModelDesc                                                        PC120-6E   \n",
              "fiBaseModel                                                           PC120   \n",
              "fiSecondaryDesc                                                         NaN   \n",
              "fiModelSeries                                                           -6E   \n",
              "fiModelDescriptor                                                       NaN   \n",
              "ProductSize                                                           Small   \n",
              "fiProductClassDesc        Hydraulic Excavator, Track - 12.0 to 14.0 Metr...   \n",
              "state                                                                 Texas   \n",
              "ProductGroup                                                            TEX   \n",
              "ProductGroupDesc                                           Track Excavators   \n",
              "Drive_System                                                            NaN   \n",
              "Enclosure                                                        EROPS w AC   \n",
              "Forks                                                                   NaN   \n",
              "Pad_Type                                                                NaN   \n",
              "Ride_Control                                                            NaN   \n",
              "Stick                                                                   NaN   \n",
              "Transmission                                                            NaN   \n",
              "Turbocharged                                                            NaN   \n",
              "Blade_Extension                                                         NaN   \n",
              "Blade_Width                                                             NaN   \n",
              "Enclosure_Type                                                          NaN   \n",
              "Engine_Horsepower                                                       NaN   \n",
              "Hydraulics                                                          2 Valve   \n",
              "Pushblock                                                               NaN   \n",
              "Ripper                                                                  NaN   \n",
              "Scarifier                                                               NaN   \n",
              "Tip_Control                                                             NaN   \n",
              "Tire_Size                                                               NaN   \n",
              "Coupler                                                 None or Unspecified   \n",
              "Coupler_System                                                          NaN   \n",
              "Grouser_Tracks                                                          NaN   \n",
              "Hydraulics_Flow                                                         NaN   \n",
              "Track_Type                                                              NaN   \n",
              "Undercarriage_Pad_Width                                                 NaN   \n",
              "Stick_Length                                                            NaN   \n",
              "Thumb                                                                   NaN   \n",
              "Pattern_Changer                                                         NaN   \n",
              "Grouser_Type                                                            NaN   \n",
              "Backhoe_Mounting                                                        NaN   \n",
              "Blade_Type                                                              NaN   \n",
              "Travel_Controls                                                         NaN   \n",
              "Differential_Type                                                       NaN   \n",
              "Steering_Controls                                                       NaN   \n",
              "\n",
              "                                                                          4  \n",
              "SalesID                                                             1139253  \n",
              "SalePrice                                                           11000.0  \n",
              "MachineID                                                           1057373  \n",
              "ModelID                                                               17311  \n",
              "datasource                                                              121  \n",
              "auctioneerID                                                            3.0  \n",
              "YearMade                                                               2007  \n",
              "MachineHoursCurrentMeter                                              722.0  \n",
              "UsageBand                                                            Medium  \n",
              "saledate                                                2009-07-23 00:00:00  \n",
              "fiModelDesc                                                            S175  \n",
              "fiBaseModel                                                            S175  \n",
              "fiSecondaryDesc                                                         NaN  \n",
              "fiModelSeries                                                           NaN  \n",
              "fiModelDescriptor                                                       NaN  \n",
              "ProductSize                                                             NaN  \n",
              "fiProductClassDesc        Skid Steer Loader - 1601.0 to 1751.0 Lb Operat...  \n",
              "state                                                              New York  \n",
              "ProductGroup                                                            SSL  \n",
              "ProductGroupDesc                                         Skid Steer Loaders  \n",
              "Drive_System                                                            NaN  \n",
              "Enclosure                                                             EROPS  \n",
              "Forks                                                   None or Unspecified  \n",
              "Pad_Type                                                                NaN  \n",
              "Ride_Control                                                            NaN  \n",
              "Stick                                                                   NaN  \n",
              "Transmission                                                            NaN  \n",
              "Turbocharged                                                            NaN  \n",
              "Blade_Extension                                                         NaN  \n",
              "Blade_Width                                                             NaN  \n",
              "Enclosure_Type                                                          NaN  \n",
              "Engine_Horsepower                                                       NaN  \n",
              "Hydraulics                                                        Auxiliary  \n",
              "Pushblock                                                               NaN  \n",
              "Ripper                                                                  NaN  \n",
              "Scarifier                                                               NaN  \n",
              "Tip_Control                                                             NaN  \n",
              "Tire_Size                                                               NaN  \n",
              "Coupler                                                 None or Unspecified  \n",
              "Coupler_System                                          None or Unspecified  \n",
              "Grouser_Tracks                                          None or Unspecified  \n",
              "Hydraulics_Flow                                                    Standard  \n",
              "Track_Type                                                              NaN  \n",
              "Undercarriage_Pad_Width                                                 NaN  \n",
              "Stick_Length                                                            NaN  \n",
              "Thumb                                                                   NaN  \n",
              "Pattern_Changer                                                         NaN  \n",
              "Grouser_Type                                                            NaN  \n",
              "Backhoe_Mounting                                                        NaN  \n",
              "Blade_Type                                                              NaN  \n",
              "Travel_Controls                                                         NaN  \n",
              "Differential_Type                                                       NaN  \n",
              "Steering_Controls                                                       NaN  "
            ],
            "text/html": [
              "\n",
              "  <div id=\"df-2b0dd2a5-f881-4bd0-b13f-2404ac4e83f8\">\n",
              "    <div class=\"colab-df-container\">\n",
              "      <div>\n",
              "<style scoped>\n",
              "    .dataframe tbody tr th:only-of-type {\n",
              "        vertical-align: middle;\n",
              "    }\n",
              "\n",
              "    .dataframe tbody tr th {\n",
              "        vertical-align: top;\n",
              "    }\n",
              "\n",
              "    .dataframe thead th {\n",
              "        text-align: right;\n",
              "    }\n",
              "</style>\n",
              "<table border=\"1\" class=\"dataframe\">\n",
              "  <thead>\n",
              "    <tr style=\"text-align: right;\">\n",
              "      <th></th>\n",
              "      <th>0</th>\n",
              "      <th>1</th>\n",
              "      <th>2</th>\n",
              "      <th>3</th>\n",
              "      <th>4</th>\n",
              "    </tr>\n",
              "  </thead>\n",
              "  <tbody>\n",
              "    <tr>\n",
              "      <th>SalesID</th>\n",
              "      <td>1139246</td>\n",
              "      <td>1139248</td>\n",
              "      <td>1139249</td>\n",
              "      <td>1139251</td>\n",
              "      <td>1139253</td>\n",
              "    </tr>\n",
              "    <tr>\n",
              "      <th>SalePrice</th>\n",
              "      <td>66000.0</td>\n",
              "      <td>57000.0</td>\n",
              "      <td>10000.0</td>\n",
              "      <td>38500.0</td>\n",
              "      <td>11000.0</td>\n",
              "    </tr>\n",
              "    <tr>\n",
              "      <th>MachineID</th>\n",
              "      <td>999089</td>\n",
              "      <td>117657</td>\n",
              "      <td>434808</td>\n",
              "      <td>1026470</td>\n",
              "      <td>1057373</td>\n",
              "    </tr>\n",
              "    <tr>\n",
              "      <th>ModelID</th>\n",
              "      <td>3157</td>\n",
              "      <td>77</td>\n",
              "      <td>7009</td>\n",
              "      <td>332</td>\n",
              "      <td>17311</td>\n",
              "    </tr>\n",
              "    <tr>\n",
              "      <th>datasource</th>\n",
              "      <td>121</td>\n",
              "      <td>121</td>\n",
              "      <td>121</td>\n",
              "      <td>121</td>\n",
              "      <td>121</td>\n",
              "    </tr>\n",
              "    <tr>\n",
              "      <th>auctioneerID</th>\n",
              "      <td>3.0</td>\n",
              "      <td>3.0</td>\n",
              "      <td>3.0</td>\n",
              "      <td>3.0</td>\n",
              "      <td>3.0</td>\n",
              "    </tr>\n",
              "    <tr>\n",
              "      <th>YearMade</th>\n",
              "      <td>2004</td>\n",
              "      <td>1996</td>\n",
              "      <td>2001</td>\n",
              "      <td>2001</td>\n",
              "      <td>2007</td>\n",
              "    </tr>\n",
              "    <tr>\n",
              "      <th>MachineHoursCurrentMeter</th>\n",
              "      <td>68.0</td>\n",
              "      <td>4640.0</td>\n",
              "      <td>2838.0</td>\n",
              "      <td>3486.0</td>\n",
              "      <td>722.0</td>\n",
              "    </tr>\n",
              "    <tr>\n",
              "      <th>UsageBand</th>\n",
              "      <td>Low</td>\n",
              "      <td>Low</td>\n",
              "      <td>High</td>\n",
              "      <td>High</td>\n",
              "      <td>Medium</td>\n",
              "    </tr>\n",
              "    <tr>\n",
              "      <th>saledate</th>\n",
              "      <td>2006-11-16 00:00:00</td>\n",
              "      <td>2004-03-26 00:00:00</td>\n",
              "      <td>2004-02-26 00:00:00</td>\n",
              "      <td>2011-05-19 00:00:00</td>\n",
              "      <td>2009-07-23 00:00:00</td>\n",
              "    </tr>\n",
              "    <tr>\n",
              "      <th>fiModelDesc</th>\n",
              "      <td>521D</td>\n",
              "      <td>950FII</td>\n",
              "      <td>226</td>\n",
              "      <td>PC120-6E</td>\n",
              "      <td>S175</td>\n",
              "    </tr>\n",
              "    <tr>\n",
              "      <th>fiBaseModel</th>\n",
              "      <td>521</td>\n",
              "      <td>950</td>\n",
              "      <td>226</td>\n",
              "      <td>PC120</td>\n",
              "      <td>S175</td>\n",
              "    </tr>\n",
              "    <tr>\n",
              "      <th>fiSecondaryDesc</th>\n",
              "      <td>D</td>\n",
              "      <td>F</td>\n",
              "      <td>NaN</td>\n",
              "      <td>NaN</td>\n",
              "      <td>NaN</td>\n",
              "    </tr>\n",
              "    <tr>\n",
              "      <th>fiModelSeries</th>\n",
              "      <td>NaN</td>\n",
              "      <td>II</td>\n",
              "      <td>NaN</td>\n",
              "      <td>-6E</td>\n",
              "      <td>NaN</td>\n",
              "    </tr>\n",
              "    <tr>\n",
              "      <th>fiModelDescriptor</th>\n",
              "      <td>NaN</td>\n",
              "      <td>NaN</td>\n",
              "      <td>NaN</td>\n",
              "      <td>NaN</td>\n",
              "      <td>NaN</td>\n",
              "    </tr>\n",
              "    <tr>\n",
              "      <th>ProductSize</th>\n",
              "      <td>NaN</td>\n",
              "      <td>Medium</td>\n",
              "      <td>NaN</td>\n",
              "      <td>Small</td>\n",
              "      <td>NaN</td>\n",
              "    </tr>\n",
              "    <tr>\n",
              "      <th>fiProductClassDesc</th>\n",
              "      <td>Wheel Loader - 110.0 to 120.0 Horsepower</td>\n",
              "      <td>Wheel Loader - 150.0 to 175.0 Horsepower</td>\n",
              "      <td>Skid Steer Loader - 1351.0 to 1601.0 Lb Operat...</td>\n",
              "      <td>Hydraulic Excavator, Track - 12.0 to 14.0 Metr...</td>\n",
              "      <td>Skid Steer Loader - 1601.0 to 1751.0 Lb Operat...</td>\n",
              "    </tr>\n",
              "    <tr>\n",
              "      <th>state</th>\n",
              "      <td>Alabama</td>\n",
              "      <td>North Carolina</td>\n",
              "      <td>New York</td>\n",
              "      <td>Texas</td>\n",
              "      <td>New York</td>\n",
              "    </tr>\n",
              "    <tr>\n",
              "      <th>ProductGroup</th>\n",
              "      <td>WL</td>\n",
              "      <td>WL</td>\n",
              "      <td>SSL</td>\n",
              "      <td>TEX</td>\n",
              "      <td>SSL</td>\n",
              "    </tr>\n",
              "    <tr>\n",
              "      <th>ProductGroupDesc</th>\n",
              "      <td>Wheel Loader</td>\n",
              "      <td>Wheel Loader</td>\n",
              "      <td>Skid Steer Loaders</td>\n",
              "      <td>Track Excavators</td>\n",
              "      <td>Skid Steer Loaders</td>\n",
              "    </tr>\n",
              "    <tr>\n",
              "      <th>Drive_System</th>\n",
              "      <td>NaN</td>\n",
              "      <td>NaN</td>\n",
              "      <td>NaN</td>\n",
              "      <td>NaN</td>\n",
              "      <td>NaN</td>\n",
              "    </tr>\n",
              "    <tr>\n",
              "      <th>Enclosure</th>\n",
              "      <td>EROPS w AC</td>\n",
              "      <td>EROPS w AC</td>\n",
              "      <td>OROPS</td>\n",
              "      <td>EROPS w AC</td>\n",
              "      <td>EROPS</td>\n",
              "    </tr>\n",
              "    <tr>\n",
              "      <th>Forks</th>\n",
              "      <td>None or Unspecified</td>\n",
              "      <td>None or Unspecified</td>\n",
              "      <td>None or Unspecified</td>\n",
              "      <td>NaN</td>\n",
              "      <td>None or Unspecified</td>\n",
              "    </tr>\n",
              "    <tr>\n",
              "      <th>Pad_Type</th>\n",
              "      <td>NaN</td>\n",
              "      <td>NaN</td>\n",
              "      <td>NaN</td>\n",
              "      <td>NaN</td>\n",
              "      <td>NaN</td>\n",
              "    </tr>\n",
              "    <tr>\n",
              "      <th>Ride_Control</th>\n",
              "      <td>None or Unspecified</td>\n",
              "      <td>None or Unspecified</td>\n",
              "      <td>NaN</td>\n",
              "      <td>NaN</td>\n",
              "      <td>NaN</td>\n",
              "    </tr>\n",
              "    <tr>\n",
              "      <th>Stick</th>\n",
              "      <td>NaN</td>\n",
              "      <td>NaN</td>\n",
              "      <td>NaN</td>\n",
              "      <td>NaN</td>\n",
              "      <td>NaN</td>\n",
              "    </tr>\n",
              "    <tr>\n",
              "      <th>Transmission</th>\n",
              "      <td>NaN</td>\n",
              "      <td>NaN</td>\n",
              "      <td>NaN</td>\n",
              "      <td>NaN</td>\n",
              "      <td>NaN</td>\n",
              "    </tr>\n",
              "    <tr>\n",
              "      <th>Turbocharged</th>\n",
              "      <td>NaN</td>\n",
              "      <td>NaN</td>\n",
              "      <td>NaN</td>\n",
              "      <td>NaN</td>\n",
              "      <td>NaN</td>\n",
              "    </tr>\n",
              "    <tr>\n",
              "      <th>Blade_Extension</th>\n",
              "      <td>NaN</td>\n",
              "      <td>NaN</td>\n",
              "      <td>NaN</td>\n",
              "      <td>NaN</td>\n",
              "      <td>NaN</td>\n",
              "    </tr>\n",
              "    <tr>\n",
              "      <th>Blade_Width</th>\n",
              "      <td>NaN</td>\n",
              "      <td>NaN</td>\n",
              "      <td>NaN</td>\n",
              "      <td>NaN</td>\n",
              "      <td>NaN</td>\n",
              "    </tr>\n",
              "    <tr>\n",
              "      <th>Enclosure_Type</th>\n",
              "      <td>NaN</td>\n",
              "      <td>NaN</td>\n",
              "      <td>NaN</td>\n",
              "      <td>NaN</td>\n",
              "      <td>NaN</td>\n",
              "    </tr>\n",
              "    <tr>\n",
              "      <th>Engine_Horsepower</th>\n",
              "      <td>NaN</td>\n",
              "      <td>NaN</td>\n",
              "      <td>NaN</td>\n",
              "      <td>NaN</td>\n",
              "      <td>NaN</td>\n",
              "    </tr>\n",
              "    <tr>\n",
              "      <th>Hydraulics</th>\n",
              "      <td>2 Valve</td>\n",
              "      <td>2 Valve</td>\n",
              "      <td>Auxiliary</td>\n",
              "      <td>2 Valve</td>\n",
              "      <td>Auxiliary</td>\n",
              "    </tr>\n",
              "    <tr>\n",
              "      <th>Pushblock</th>\n",
              "      <td>NaN</td>\n",
              "      <td>NaN</td>\n",
              "      <td>NaN</td>\n",
              "      <td>NaN</td>\n",
              "      <td>NaN</td>\n",
              "    </tr>\n",
              "    <tr>\n",
              "      <th>Ripper</th>\n",
              "      <td>NaN</td>\n",
              "      <td>NaN</td>\n",
              "      <td>NaN</td>\n",
              "      <td>NaN</td>\n",
              "      <td>NaN</td>\n",
              "    </tr>\n",
              "    <tr>\n",
              "      <th>Scarifier</th>\n",
              "      <td>NaN</td>\n",
              "      <td>NaN</td>\n",
              "      <td>NaN</td>\n",
              "      <td>NaN</td>\n",
              "      <td>NaN</td>\n",
              "    </tr>\n",
              "    <tr>\n",
              "      <th>Tip_Control</th>\n",
              "      <td>NaN</td>\n",
              "      <td>NaN</td>\n",
              "      <td>NaN</td>\n",
              "      <td>NaN</td>\n",
              "      <td>NaN</td>\n",
              "    </tr>\n",
              "    <tr>\n",
              "      <th>Tire_Size</th>\n",
              "      <td>None or Unspecified</td>\n",
              "      <td>23.5</td>\n",
              "      <td>NaN</td>\n",
              "      <td>NaN</td>\n",
              "      <td>NaN</td>\n",
              "    </tr>\n",
              "    <tr>\n",
              "      <th>Coupler</th>\n",
              "      <td>None or Unspecified</td>\n",
              "      <td>None or Unspecified</td>\n",
              "      <td>None or Unspecified</td>\n",
              "      <td>None or Unspecified</td>\n",
              "      <td>None or Unspecified</td>\n",
              "    </tr>\n",
              "    <tr>\n",
              "      <th>Coupler_System</th>\n",
              "      <td>NaN</td>\n",
              "      <td>NaN</td>\n",
              "      <td>None or Unspecified</td>\n",
              "      <td>NaN</td>\n",
              "      <td>None or Unspecified</td>\n",
              "    </tr>\n",
              "    <tr>\n",
              "      <th>Grouser_Tracks</th>\n",
              "      <td>NaN</td>\n",
              "      <td>NaN</td>\n",
              "      <td>None or Unspecified</td>\n",
              "      <td>NaN</td>\n",
              "      <td>None or Unspecified</td>\n",
              "    </tr>\n",
              "    <tr>\n",
              "      <th>Hydraulics_Flow</th>\n",
              "      <td>NaN</td>\n",
              "      <td>NaN</td>\n",
              "      <td>Standard</td>\n",
              "      <td>NaN</td>\n",
              "      <td>Standard</td>\n",
              "    </tr>\n",
              "    <tr>\n",
              "      <th>Track_Type</th>\n",
              "      <td>NaN</td>\n",
              "      <td>NaN</td>\n",
              "      <td>NaN</td>\n",
              "      <td>NaN</td>\n",
              "      <td>NaN</td>\n",
              "    </tr>\n",
              "    <tr>\n",
              "      <th>Undercarriage_Pad_Width</th>\n",
              "      <td>NaN</td>\n",
              "      <td>NaN</td>\n",
              "      <td>NaN</td>\n",
              "      <td>NaN</td>\n",
              "      <td>NaN</td>\n",
              "    </tr>\n",
              "    <tr>\n",
              "      <th>Stick_Length</th>\n",
              "      <td>NaN</td>\n",
              "      <td>NaN</td>\n",
              "      <td>NaN</td>\n",
              "      <td>NaN</td>\n",
              "      <td>NaN</td>\n",
              "    </tr>\n",
              "    <tr>\n",
              "      <th>Thumb</th>\n",
              "      <td>NaN</td>\n",
              "      <td>NaN</td>\n",
              "      <td>NaN</td>\n",
              "      <td>NaN</td>\n",
              "      <td>NaN</td>\n",
              "    </tr>\n",
              "    <tr>\n",
              "      <th>Pattern_Changer</th>\n",
              "      <td>NaN</td>\n",
              "      <td>NaN</td>\n",
              "      <td>NaN</td>\n",
              "      <td>NaN</td>\n",
              "      <td>NaN</td>\n",
              "    </tr>\n",
              "    <tr>\n",
              "      <th>Grouser_Type</th>\n",
              "      <td>NaN</td>\n",
              "      <td>NaN</td>\n",
              "      <td>NaN</td>\n",
              "      <td>NaN</td>\n",
              "      <td>NaN</td>\n",
              "    </tr>\n",
              "    <tr>\n",
              "      <th>Backhoe_Mounting</th>\n",
              "      <td>NaN</td>\n",
              "      <td>NaN</td>\n",
              "      <td>NaN</td>\n",
              "      <td>NaN</td>\n",
              "      <td>NaN</td>\n",
              "    </tr>\n",
              "    <tr>\n",
              "      <th>Blade_Type</th>\n",
              "      <td>NaN</td>\n",
              "      <td>NaN</td>\n",
              "      <td>NaN</td>\n",
              "      <td>NaN</td>\n",
              "      <td>NaN</td>\n",
              "    </tr>\n",
              "    <tr>\n",
              "      <th>Travel_Controls</th>\n",
              "      <td>NaN</td>\n",
              "      <td>NaN</td>\n",
              "      <td>NaN</td>\n",
              "      <td>NaN</td>\n",
              "      <td>NaN</td>\n",
              "    </tr>\n",
              "    <tr>\n",
              "      <th>Differential_Type</th>\n",
              "      <td>Standard</td>\n",
              "      <td>Standard</td>\n",
              "      <td>NaN</td>\n",
              "      <td>NaN</td>\n",
              "      <td>NaN</td>\n",
              "    </tr>\n",
              "    <tr>\n",
              "      <th>Steering_Controls</th>\n",
              "      <td>Conventional</td>\n",
              "      <td>Conventional</td>\n",
              "      <td>NaN</td>\n",
              "      <td>NaN</td>\n",
              "      <td>NaN</td>\n",
              "    </tr>\n",
              "  </tbody>\n",
              "</table>\n",
              "</div>\n",
              "      <button class=\"colab-df-convert\" onclick=\"convertToInteractive('df-2b0dd2a5-f881-4bd0-b13f-2404ac4e83f8')\"\n",
              "              title=\"Convert this dataframe to an interactive table.\"\n",
              "              style=\"display:none;\">\n",
              "        \n",
              "  <svg xmlns=\"http://www.w3.org/2000/svg\" height=\"24px\"viewBox=\"0 0 24 24\"\n",
              "       width=\"24px\">\n",
              "    <path d=\"M0 0h24v24H0V0z\" fill=\"none\"/>\n",
              "    <path d=\"M18.56 5.44l.94 2.06.94-2.06 2.06-.94-2.06-.94-.94-2.06-.94 2.06-2.06.94zm-11 1L8.5 8.5l.94-2.06 2.06-.94-2.06-.94L8.5 2.5l-.94 2.06-2.06.94zm10 10l.94 2.06.94-2.06 2.06-.94-2.06-.94-.94-2.06-.94 2.06-2.06.94z\"/><path d=\"M17.41 7.96l-1.37-1.37c-.4-.4-.92-.59-1.43-.59-.52 0-1.04.2-1.43.59L10.3 9.45l-7.72 7.72c-.78.78-.78 2.05 0 2.83L4 21.41c.39.39.9.59 1.41.59.51 0 1.02-.2 1.41-.59l7.78-7.78 2.81-2.81c.8-.78.8-2.07 0-2.86zM5.41 20L4 18.59l7.72-7.72 1.47 1.35L5.41 20z\"/>\n",
              "  </svg>\n",
              "      </button>\n",
              "      \n",
              "  <style>\n",
              "    .colab-df-container {\n",
              "      display:flex;\n",
              "      flex-wrap:wrap;\n",
              "      gap: 12px;\n",
              "    }\n",
              "\n",
              "    .colab-df-convert {\n",
              "      background-color: #E8F0FE;\n",
              "      border: none;\n",
              "      border-radius: 50%;\n",
              "      cursor: pointer;\n",
              "      display: none;\n",
              "      fill: #1967D2;\n",
              "      height: 32px;\n",
              "      padding: 0 0 0 0;\n",
              "      width: 32px;\n",
              "    }\n",
              "\n",
              "    .colab-df-convert:hover {\n",
              "      background-color: #E2EBFA;\n",
              "      box-shadow: 0px 1px 2px rgba(60, 64, 67, 0.3), 0px 1px 3px 1px rgba(60, 64, 67, 0.15);\n",
              "      fill: #174EA6;\n",
              "    }\n",
              "\n",
              "    [theme=dark] .colab-df-convert {\n",
              "      background-color: #3B4455;\n",
              "      fill: #D2E3FC;\n",
              "    }\n",
              "\n",
              "    [theme=dark] .colab-df-convert:hover {\n",
              "      background-color: #434B5C;\n",
              "      box-shadow: 0px 1px 3px 1px rgba(0, 0, 0, 0.15);\n",
              "      filter: drop-shadow(0px 1px 2px rgba(0, 0, 0, 0.3));\n",
              "      fill: #FFFFFF;\n",
              "    }\n",
              "  </style>\n",
              "\n",
              "      <script>\n",
              "        const buttonEl =\n",
              "          document.querySelector('#df-2b0dd2a5-f881-4bd0-b13f-2404ac4e83f8 button.colab-df-convert');\n",
              "        buttonEl.style.display =\n",
              "          google.colab.kernel.accessAllowed ? 'block' : 'none';\n",
              "\n",
              "        async function convertToInteractive(key) {\n",
              "          const element = document.querySelector('#df-2b0dd2a5-f881-4bd0-b13f-2404ac4e83f8');\n",
              "          const dataTable =\n",
              "            await google.colab.kernel.invokeFunction('convertToInteractive',\n",
              "                                                     [key], {});\n",
              "          if (!dataTable) return;\n",
              "\n",
              "          const docLinkHtml = 'Like what you see? Visit the ' +\n",
              "            '<a target=\"_blank\" href=https://colab.research.google.com/notebooks/data_table.ipynb>data table notebook</a>'\n",
              "            + ' to learn more about interactive tables.';\n",
              "          element.innerHTML = '';\n",
              "          dataTable['output_type'] = 'display_data';\n",
              "          await google.colab.output.renderOutput(dataTable, element);\n",
              "          const docLink = document.createElement('div');\n",
              "          docLink.innerHTML = docLinkHtml;\n",
              "          element.appendChild(docLink);\n",
              "        }\n",
              "      </script>\n",
              "    </div>\n",
              "  </div>\n",
              "  "
            ]
          },
          "metadata": {},
          "execution_count": 19
        }
      ]
    },
    {
      "cell_type": "code",
      "source": [
        "df.saledate.head(10)"
      ],
      "metadata": {
        "colab": {
          "base_uri": "https://localhost:8080/"
        },
        "id": "dc37Ch2qR1m1",
        "outputId": "73c651cd-dc92-4203-9ba5-f4f20aa8d07e"
      },
      "execution_count": null,
      "outputs": [
        {
          "output_type": "execute_result",
          "data": {
            "text/plain": [
              "0   2006-11-16\n",
              "1   2004-03-26\n",
              "2   2004-02-26\n",
              "3   2011-05-19\n",
              "4   2009-07-23\n",
              "5   2008-12-18\n",
              "6   2004-08-26\n",
              "7   2005-11-17\n",
              "8   2009-08-27\n",
              "9   2007-08-09\n",
              "Name: saledate, dtype: datetime64[ns]"
            ]
          },
          "metadata": {},
          "execution_count": 21
        }
      ]
    },
    {
      "cell_type": "markdown",
      "source": [
        "### Sort DataFrame by saledate\n",
        "\n",
        "When working with time series data, it's good idea to sort it by date"
      ],
      "metadata": {
        "id": "3ljm2ZEDSDbh"
      }
    },
    {
      "cell_type": "code",
      "source": [
        "# Sort DataFrame in date order\n",
        "df.sort_values(by=['saledate'], \n",
        "               inplace = True, \n",
        "               ascending=True)\n",
        "\n",
        "df.saledate.head(10)"
      ],
      "metadata": {
        "colab": {
          "base_uri": "https://localhost:8080/"
        },
        "id": "RYxkRqdbSlqs",
        "outputId": "5141280f-9062-4ba0-b717-fafb57268750"
      },
      "execution_count": null,
      "outputs": [
        {
          "output_type": "execute_result",
          "data": {
            "text/plain": [
              "205615   1989-01-17\n",
              "274835   1989-01-31\n",
              "141296   1989-01-31\n",
              "212552   1989-01-31\n",
              "62755    1989-01-31\n",
              "54653    1989-01-31\n",
              "81383    1989-01-31\n",
              "204924   1989-01-31\n",
              "135376   1989-01-31\n",
              "113390   1989-01-31\n",
              "Name: saledate, dtype: datetime64[ns]"
            ]
          },
          "metadata": {},
          "execution_count": 22
        }
      ]
    },
    {
      "cell_type": "markdown",
      "source": [
        "### Make a copy of the original DataFrame\n",
        "\n",
        "We make a copy of the original dataframe so when we manipulate the copy, we've still got our original data."
      ],
      "metadata": {
        "id": "Ylz_Xb7qTEuO"
      }
    },
    {
      "cell_type": "code",
      "source": [
        "# Make copy data\n",
        "df_tmp = df.copy()\n",
        "#df_tmp.head().T"
      ],
      "metadata": {
        "id": "jdhs7FtYTEqE"
      },
      "execution_count": null,
      "outputs": []
    },
    {
      "cell_type": "markdown",
      "source": [
        "### Feature Engineering\n",
        "### Add datetime parameters for `saledate` column\n",
        "\n",
        "https://pandas.pydata.org/pandas-docs/version/0.23/generated/pandas.DatetimeIndex.html"
      ],
      "metadata": {
        "id": "hQwNtIdgT09g"
      }
    },
    {
      "cell_type": "code",
      "source": [
        "df_tmp['saleYear'] = df_tmp.saledate.dt.year\n",
        "df_tmp['saleMonth'] = df_tmp.saledate.dt.month\n",
        "df_tmp['saleDay'] = df_tmp.saledate.dt.day\n",
        "df_tmp['saleDayOfWeek'] = df_tmp.saledate.dt.dayofweek\n",
        "df_tmp['saleDayOfYear'] = df_tmp.saledate.dt.dayofyear"
      ],
      "metadata": {
        "id": "yNeHV44nTD5G"
      },
      "execution_count": null,
      "outputs": []
    },
    {
      "cell_type": "code",
      "source": [
        "# Now we've enriched our dataframe with date time feature, we can remove saledate\n",
        "df_tmp.drop(columns=['saledate'], \n",
        "            axis=1, \n",
        "            inplace= True)"
      ],
      "metadata": {
        "id": "TR-5rGSIVEG8"
      },
      "execution_count": null,
      "outputs": []
    },
    {
      "cell_type": "code",
      "source": [
        "# Check the values of different columns\n",
        "df_tmp.state.value_counts()"
      ],
      "metadata": {
        "colab": {
          "base_uri": "https://localhost:8080/"
        },
        "id": "oMMwh35DVPa3",
        "outputId": "e98e921f-2ac5-4609-b14c-c09952a8878e"
      },
      "execution_count": null,
      "outputs": [
        {
          "output_type": "execute_result",
          "data": {
            "text/plain": [
              "Florida           67320\n",
              "Texas             53110\n",
              "California        29761\n",
              "Washington        16222\n",
              "Georgia           14633\n",
              "Maryland          13322\n",
              "Mississippi       13240\n",
              "Ohio              12369\n",
              "Illinois          11540\n",
              "Colorado          11529\n",
              "New Jersey        11156\n",
              "North Carolina    10636\n",
              "Tennessee         10298\n",
              "Alabama           10292\n",
              "Pennsylvania      10234\n",
              "South Carolina     9951\n",
              "Arizona            9364\n",
              "New York           8639\n",
              "Connecticut        8276\n",
              "Minnesota          7885\n",
              "Missouri           7178\n",
              "Nevada             6932\n",
              "Louisiana          6627\n",
              "Kentucky           5351\n",
              "Maine              5096\n",
              "Indiana            4124\n",
              "Arkansas           3933\n",
              "New Mexico         3631\n",
              "Utah               3046\n",
              "Unspecified        2801\n",
              "Wisconsin          2745\n",
              "New Hampshire      2738\n",
              "Virginia           2353\n",
              "Idaho              2025\n",
              "Oregon             1911\n",
              "Michigan           1831\n",
              "Wyoming            1672\n",
              "Montana            1336\n",
              "Iowa               1336\n",
              "Oklahoma           1326\n",
              "Nebraska            866\n",
              "West Virginia       840\n",
              "Kansas              667\n",
              "Delaware            510\n",
              "North Dakota        480\n",
              "Alaska              430\n",
              "Massachusetts       347\n",
              "Vermont             300\n",
              "South Dakota        244\n",
              "Hawaii              118\n",
              "Rhode Island         83\n",
              "Puerto Rico          42\n",
              "Washington DC         2\n",
              "Name: state, dtype: int64"
            ]
          },
          "metadata": {},
          "execution_count": 27
        }
      ]
    },
    {
      "cell_type": "markdown",
      "source": [
        "## 5. Modeling\n",
        "\n",
        "We've done enough EDA (we could always do more) but let's start to do some model-driven EDA.\n",
        "\n",
        "https://scikit-learn.org/stable/tutorial/machine_learning_map/index.html"
      ],
      "metadata": {
        "id": "-em84xsMWGNG"
      }
    },
    {
      "cell_type": "markdown",
      "source": [
        "### Convert String to categories\n",
        "\n",
        "One way we can turn all of our data into numbers is converting them into pandas categories.\n",
        "We can check the different datatypes compatible with pandas here:\n",
        "https://pandas.pydata.org/docs/reference/api/pandas.api.types.is_string_dtype.html\n"
      ],
      "metadata": {
        "id": "CvRCBElbYoho"
      }
    },
    {
      "cell_type": "code",
      "source": [
        "pd.api.types.is_string_dtype(df_tmp[\"UsageBand\"])"
      ],
      "metadata": {
        "colab": {
          "base_uri": "https://localhost:8080/"
        },
        "id": "3xqt03zbZKv3",
        "outputId": "d93e22fa-9221-4405-e29e-db8013da97f8"
      },
      "execution_count": null,
      "outputs": [
        {
          "output_type": "execute_result",
          "data": {
            "text/plain": [
              "True"
            ]
          },
          "metadata": {},
          "execution_count": 29
        }
      ]
    },
    {
      "cell_type": "code",
      "source": [
        "# Find the columns which contain strings\n",
        "for label, content in df_tmp.items():\n",
        "  if pd.api.types.is_string_dtype(content):\n",
        "    print(label)"
      ],
      "metadata": {
        "colab": {
          "base_uri": "https://localhost:8080/"
        },
        "id": "UlBcZYOgaPhj",
        "outputId": "23ad9305-aaf0-42c1-821a-712000aa2ccd"
      },
      "execution_count": null,
      "outputs": [
        {
          "output_type": "stream",
          "name": "stdout",
          "text": [
            "UsageBand\n",
            "fiModelDesc\n",
            "fiBaseModel\n",
            "fiSecondaryDesc\n",
            "fiModelSeries\n",
            "fiModelDescriptor\n",
            "ProductSize\n",
            "fiProductClassDesc\n",
            "state\n",
            "ProductGroup\n",
            "ProductGroupDesc\n",
            "Drive_System\n",
            "Enclosure\n",
            "Forks\n",
            "Pad_Type\n",
            "Ride_Control\n",
            "Stick\n",
            "Transmission\n",
            "Turbocharged\n",
            "Blade_Extension\n",
            "Blade_Width\n",
            "Enclosure_Type\n",
            "Engine_Horsepower\n",
            "Hydraulics\n",
            "Pushblock\n",
            "Ripper\n",
            "Scarifier\n",
            "Tip_Control\n",
            "Tire_Size\n",
            "Coupler\n",
            "Coupler_System\n",
            "Grouser_Tracks\n",
            "Hydraulics_Flow\n",
            "Track_Type\n",
            "Undercarriage_Pad_Width\n",
            "Stick_Length\n",
            "Thumb\n",
            "Pattern_Changer\n",
            "Grouser_Type\n",
            "Backhoe_Mounting\n",
            "Blade_Type\n",
            "Travel_Controls\n",
            "Differential_Type\n",
            "Steering_Controls\n"
          ]
        }
      ]
    },
    {
      "cell_type": "code",
      "source": [
        "# This will turn all of the string value into category values\n",
        "for label, content in df_tmp.items():\n",
        "  if pd.api.types.is_string_dtype(content):\n",
        "    df_tmp[label]= content.astype(\"category\").cat.as_ordered()"
      ],
      "metadata": {
        "id": "6BozhUUaamfm"
      },
      "execution_count": null,
      "outputs": []
    },
    {
      "cell_type": "code",
      "source": [
        "df_tmp.info()"
      ],
      "metadata": {
        "id": "O-UU82n3bArr"
      },
      "execution_count": null,
      "outputs": []
    },
    {
      "cell_type": "code",
      "source": [
        "# Check\n",
        "df_tmp.state.cat.categories"
      ],
      "metadata": {
        "colab": {
          "base_uri": "https://localhost:8080/"
        },
        "id": "LQPjoZP0bIQL",
        "outputId": "1853533e-1185-4379-d4d0-d41b56c4e6b8"
      },
      "execution_count": null,
      "outputs": [
        {
          "output_type": "execute_result",
          "data": {
            "text/plain": [
              "Index(['Alabama', 'Alaska', 'Arizona', 'Arkansas', 'California', 'Colorado',\n",
              "       'Connecticut', 'Delaware', 'Florida', 'Georgia', 'Hawaii', 'Idaho',\n",
              "       'Illinois', 'Indiana', 'Iowa', 'Kansas', 'Kentucky', 'Louisiana',\n",
              "       'Maine', 'Maryland', 'Massachusetts', 'Michigan', 'Minnesota',\n",
              "       'Mississippi', 'Missouri', 'Montana', 'Nebraska', 'Nevada',\n",
              "       'New Hampshire', 'New Jersey', 'New Mexico', 'New York',\n",
              "       'North Carolina', 'North Dakota', 'Ohio', 'Oklahoma', 'Oregon',\n",
              "       'Pennsylvania', 'Puerto Rico', 'Rhode Island', 'South Carolina',\n",
              "       'South Dakota', 'Tennessee', 'Texas', 'Unspecified', 'Utah', 'Vermont',\n",
              "       'Virginia', 'Washington', 'Washington DC', 'West Virginia', 'Wisconsin',\n",
              "       'Wyoming'],\n",
              "      dtype='object')"
            ]
          },
          "metadata": {},
          "execution_count": 33
        }
      ]
    },
    {
      "cell_type": "code",
      "source": [
        "df_tmp.state.cat.codes"
      ],
      "metadata": {
        "colab": {
          "base_uri": "https://localhost:8080/"
        },
        "id": "4kW3MHT-bQ0Y",
        "outputId": "44cdcb59-be33-42c2-b632-cf0d0df23f20"
      },
      "execution_count": null,
      "outputs": [
        {
          "output_type": "execute_result",
          "data": {
            "text/plain": [
              "205615    43\n",
              "274835     8\n",
              "141296     8\n",
              "212552     8\n",
              "62755      8\n",
              "          ..\n",
              "410879     4\n",
              "412476     4\n",
              "411927     4\n",
              "407124     4\n",
              "409203     4\n",
              "Length: 412698, dtype: int8"
            ]
          },
          "metadata": {},
          "execution_count": 34
        }
      ]
    },
    {
      "cell_type": "markdown",
      "source": [
        "### Handle missing data"
      ],
      "metadata": {
        "id": "RYPRKKe4dR8A"
      }
    },
    {
      "cell_type": "code",
      "source": [
        "# Check missing data\n",
        "df_tmp.isnull().sum()/len(df_tmp)"
      ],
      "metadata": {
        "colab": {
          "base_uri": "https://localhost:8080/"
        },
        "id": "_iX_EWundRTX",
        "outputId": "50a075f0-527b-466d-9cbc-01c4b8327d79"
      },
      "execution_count": null,
      "outputs": [
        {
          "output_type": "execute_result",
          "data": {
            "text/plain": [
              "SalesID                     0.000000\n",
              "SalePrice                   0.000000\n",
              "MachineID                   0.000000\n",
              "ModelID                     0.000000\n",
              "datasource                  0.000000\n",
              "auctioneerID                0.048791\n",
              "YearMade                    0.000000\n",
              "MachineHoursCurrentMeter    0.642586\n",
              "UsageBand                   0.821492\n",
              "fiModelDesc                 0.000000\n",
              "fiBaseModel                 0.000000\n",
              "fiSecondaryDesc             0.340993\n",
              "fiModelSeries               0.857845\n",
              "fiModelDescriptor           0.818715\n",
              "ProductSize                 0.524851\n",
              "fiProductClassDesc          0.000000\n",
              "state                       0.000000\n",
              "ProductGroup                0.000000\n",
              "ProductGroupDesc            0.000000\n",
              "Drive_System                0.740520\n",
              "Enclosure                   0.000809\n",
              "Forks                       0.520921\n",
              "Pad_Type                    0.803498\n",
              "Ride_Control                0.629928\n",
              "Stick                       0.803498\n",
              "Transmission                0.544444\n",
              "Turbocharged                0.803498\n",
              "Blade_Extension             0.937041\n",
              "Blade_Width                 0.937041\n",
              "Enclosure_Type              0.937041\n",
              "Engine_Horsepower           0.937041\n",
              "Hydraulics                  0.200062\n",
              "Pushblock                   0.937041\n",
              "Ripper                      0.740864\n",
              "Scarifier                   0.937014\n",
              "Tip_Control                 0.937041\n",
              "Tire_Size                   0.763415\n",
              "Coupler                     0.465277\n",
              "Coupler_System              0.891024\n",
              "Grouser_Tracks              0.891264\n",
              "Hydraulics_Flow             0.891264\n",
              "Track_Type                  0.752378\n",
              "Undercarriage_Pad_Width     0.750626\n",
              "Stick_Length                0.752213\n",
              "Thumb                       0.752041\n",
              "Pattern_Changer             0.752213\n",
              "Grouser_Type                0.752378\n",
              "Backhoe_Mounting            0.804428\n",
              "Blade_Type                  0.801610\n",
              "Travel_Controls             0.801606\n",
              "Differential_Type           0.826595\n",
              "Steering_Controls           0.826697\n",
              "saleYear                    0.000000\n",
              "saleMonth                   0.000000\n",
              "saleDay                     0.000000\n",
              "saleDayOfWeek               0.000000\n",
              "saleDayOfYear               0.000000\n",
              "dtype: float64"
            ]
          },
          "metadata": {},
          "execution_count": 35
        }
      ]
    },
    {
      "cell_type": "markdown",
      "source": [
        "## Save Preprocessed data"
      ],
      "metadata": {
        "id": "rcLLWGQWeOud"
      }
    },
    {
      "cell_type": "code",
      "source": [
        "# Export current tmp DataFrame\n",
        "df_tmp.to_csv(\"/content/drive/MyDrive/ml-course/data/bulldozers/train_tmp.csv\",\n",
        "              index=False)"
      ],
      "metadata": {
        "id": "FY81IEI3eOSE"
      },
      "execution_count": null,
      "outputs": []
    },
    {
      "cell_type": "markdown",
      "source": [
        "## Load Preprocessed data"
      ],
      "metadata": {
        "id": "UWRY_R5TP36V"
      }
    },
    {
      "cell_type": "code",
      "source": [
        "# import libraries\n",
        "import numpy as np\n",
        "import pandas as pd\n",
        "import matplotlib.pyplot as plt\n",
        "import sklearn\n",
        "from sklearn.ensemble import RandomForestRegressor\n",
        "from sklearn.model_selection import cross_val_score\n"
      ],
      "metadata": {
        "id": "u7Cej5ZpPzQX"
      },
      "execution_count": null,
      "outputs": []
    },
    {
      "cell_type": "code",
      "source": [
        "# Import preprocessed data\n",
        "df_temp = pd.read_csv(\"/content/drive/MyDrive/ml-course/data/bulldozers/train_tmp.csv\", low_memory=False)"
      ],
      "metadata": {
        "id": "P8Ahhjadeki7"
      },
      "execution_count": null,
      "outputs": []
    },
    {
      "cell_type": "markdown",
      "source": [
        "## Fill missing values"
      ],
      "metadata": {
        "id": "YibN8RQQPjh9"
      }
    },
    {
      "cell_type": "markdown",
      "source": [
        "### Fill numerical missing values first"
      ],
      "metadata": {
        "id": "eHGp_rG6nJxh"
      }
    },
    {
      "cell_type": "code",
      "source": [
        "for label, content in df_temp.items():\n",
        "  if pd.api.types.is_numeric_dtype(content):\n",
        "    print(label)"
      ],
      "metadata": {
        "colab": {
          "base_uri": "https://localhost:8080/"
        },
        "id": "aABJlp5JPlL1",
        "outputId": "1d9fdf7a-c079-40e9-b20e-8ef69282e20d"
      },
      "execution_count": null,
      "outputs": [
        {
          "output_type": "stream",
          "name": "stdout",
          "text": [
            "SalesID\n",
            "SalePrice\n",
            "MachineID\n",
            "ModelID\n",
            "datasource\n",
            "auctioneerID\n",
            "YearMade\n",
            "MachineHoursCurrentMeter\n",
            "saleYear\n",
            "saleMonth\n",
            "saleDay\n",
            "saleDayOfWeek\n",
            "saleDayOfYear\n"
          ]
        }
      ]
    },
    {
      "cell_type": "code",
      "source": [
        "df_temp.ModelID"
      ],
      "metadata": {
        "colab": {
          "base_uri": "https://localhost:8080/"
        },
        "id": "Nfy_AME5QFRG",
        "outputId": "5f44ba4d-4736-4a6d-8b1e-4f52be73c657"
      },
      "execution_count": null,
      "outputs": [
        {
          "output_type": "execute_result",
          "data": {
            "text/plain": [
              "0          8434\n",
              "1         10150\n",
              "2          4139\n",
              "3          8591\n",
              "4          4089\n",
              "          ...  \n",
              "412693     5266\n",
              "412694    19330\n",
              "412695    17244\n",
              "412696     3357\n",
              "412697     4701\n",
              "Name: ModelID, Length: 412698, dtype: int64"
            ]
          },
          "metadata": {},
          "execution_count": 35
        }
      ]
    },
    {
      "cell_type": "code",
      "source": [
        "# Check for which numeric columns have null values\n",
        "for label, content in df_temp.items():\n",
        "  if pd.api.types.is_numeric_dtype(content):\n",
        "    if pd.isnull(content).sum():\n",
        "      print(label)"
      ],
      "metadata": {
        "id": "PbYFIPvAQZxo"
      },
      "execution_count": null,
      "outputs": []
    },
    {
      "cell_type": "code",
      "source": [
        "# Fill numeric rows with the median\n",
        "# Check for which numeric columns have null values\n",
        "for label, content in df_temp.items():\n",
        "  if pd.api.types.is_numeric_dtype(content):\n",
        "    if pd.isnull(content).sum():\n",
        "      # Add a binary column which tells us if the data was null.\n",
        "      df_temp[label +\"_is_missing\"] = pd.isnull(content)\n",
        "      # Fill missing numeric values with median\n",
        "      df_temp[label] = content.fillna(content.median())\n",
        "                                                "
      ],
      "metadata": {
        "id": "jKs5wiUvQ8__"
      },
      "execution_count": null,
      "outputs": []
    },
    {
      "cell_type": "code",
      "source": [
        "#Check again which numerical column have null value\n",
        "# Check for which numeric columns have null values\n",
        "for label, content in df_temp.items():\n",
        "  if pd.api.types.is_numeric_dtype(content):\n",
        "    if pd.isnull(content).sum():\n",
        "      print(label)"
      ],
      "metadata": {
        "id": "d64aoQ9zTQP6"
      },
      "execution_count": null,
      "outputs": []
    },
    {
      "cell_type": "markdown",
      "source": [
        "There are no more numerical columns missing values."
      ],
      "metadata": {
        "id": "ci_PJhM2Td2F"
      }
    },
    {
      "cell_type": "code",
      "source": [
        "# Check to see how many examples were missing\n",
        "df_temp.auctioneerID_is_missing.value_counts()"
      ],
      "metadata": {
        "colab": {
          "base_uri": "https://localhost:8080/"
        },
        "id": "_JwLcxFRTmXw",
        "outputId": "558d0bf7-5acc-4cb5-c276-1eb9059961e2"
      },
      "execution_count": null,
      "outputs": [
        {
          "output_type": "execute_result",
          "data": {
            "text/plain": [
              "False    392562\n",
              "True      20136\n",
              "Name: auctioneerID_is_missing, dtype: int64"
            ]
          },
          "metadata": {},
          "execution_count": 51
        }
      ]
    },
    {
      "cell_type": "markdown",
      "source": [
        "### Fill Categorical Missing Values\n",
        "Fill and turning categorical variables into numbers"
      ],
      "metadata": {
        "id": "Y5edVYBoU74P"
      }
    },
    {
      "cell_type": "code",
      "source": [
        "# Check for columns which aren't numeric\n",
        "for label, content in df_temp.items():\n",
        "  if not pd.api.types.is_numeric_dtype(content): #pd.api.types.is_string_dtype(content):\n",
        "    if pd.isnull(content).sum():\n",
        "      print(label)"
      ],
      "metadata": {
        "colab": {
          "base_uri": "https://localhost:8080/"
        },
        "id": "pe4GnOJRT3qw",
        "outputId": "7d894f17-9f67-41bc-b2ca-80699db92bb0"
      },
      "execution_count": null,
      "outputs": [
        {
          "output_type": "stream",
          "name": "stdout",
          "text": [
            "UsageBand\n",
            "fiSecondaryDesc\n",
            "fiModelSeries\n",
            "fiModelDescriptor\n",
            "ProductSize\n",
            "Drive_System\n",
            "Enclosure\n",
            "Forks\n",
            "Pad_Type\n",
            "Ride_Control\n",
            "Stick\n",
            "Transmission\n",
            "Turbocharged\n",
            "Blade_Extension\n",
            "Blade_Width\n",
            "Enclosure_Type\n",
            "Engine_Horsepower\n",
            "Hydraulics\n",
            "Pushblock\n",
            "Ripper\n",
            "Scarifier\n",
            "Tip_Control\n",
            "Tire_Size\n",
            "Coupler\n",
            "Coupler_System\n",
            "Grouser_Tracks\n",
            "Hydraulics_Flow\n",
            "Track_Type\n",
            "Undercarriage_Pad_Width\n",
            "Stick_Length\n",
            "Thumb\n",
            "Pattern_Changer\n",
            "Grouser_Type\n",
            "Backhoe_Mounting\n",
            "Blade_Type\n",
            "Travel_Controls\n",
            "Differential_Type\n",
            "Steering_Controls\n"
          ]
        }
      ]
    },
    {
      "cell_type": "code",
      "source": [
        "pd.Categorical(df_temp[\"state\"])"
      ],
      "metadata": {
        "colab": {
          "base_uri": "https://localhost:8080/"
        },
        "id": "RfnKyAavVXGC",
        "outputId": "9e050eb0-1da7-46b3-eb2a-91c7c61390b8"
      },
      "execution_count": null,
      "outputs": [
        {
          "output_type": "execute_result",
          "data": {
            "text/plain": [
              "[44, 9, 9, 9, 9, ..., 5, 5, 5, 5, 5]\n",
              "Length: 412698\n",
              "Categories (53, int64): [1, 2, 3, 4, ..., 50, 51, 52, 53]"
            ]
          },
          "metadata": {},
          "execution_count": 41
        }
      ]
    },
    {
      "cell_type": "code",
      "source": [
        "pd.Categorical(df_temp[\"state\"]).dtype"
      ],
      "metadata": {
        "colab": {
          "base_uri": "https://localhost:8080/"
        },
        "id": "XzmVVUIIWSus",
        "outputId": "11987576-2824-4b65-9465-7fa90284eb4e"
      },
      "execution_count": null,
      "outputs": [
        {
          "output_type": "execute_result",
          "data": {
            "text/plain": [
              "CategoricalDtype(categories=[ 1,  2,  3,  4,  5,  6,  7,  8,  9, 10, 11, 12, 13, 14, 15,\n",
              "                  16, 17, 18, 19, 20, 21, 22, 23, 24, 25, 26, 27, 28, 29, 30,\n",
              "                  31, 32, 33, 34, 35, 36, 37, 38, 39, 40, 41, 42, 43, 44, 45,\n",
              "                  46, 47, 48, 49, 50, 51, 52, 53],\n",
              ", ordered=False)"
            ]
          },
          "metadata": {},
          "execution_count": 42
        }
      ]
    },
    {
      "cell_type": "code",
      "source": [
        "# Check categorical codes\n",
        "pd.Categorical(df_temp[\"state\"]).codes"
      ],
      "metadata": {
        "colab": {
          "base_uri": "https://localhost:8080/"
        },
        "id": "f78erT6uWWmA",
        "outputId": "59083cd2-0040-42af-f783-200dc4d2c6c9"
      },
      "execution_count": null,
      "outputs": [
        {
          "output_type": "execute_result",
          "data": {
            "text/plain": [
              "array([43,  8,  8, ...,  4,  4,  4], dtype=int8)"
            ]
          },
          "metadata": {},
          "execution_count": 43
        }
      ]
    },
    {
      "cell_type": "code",
      "source": [
        "# Turn categorical variables into number and fill missing\n",
        "for label, content in df_temp.items():\n",
        "  if not pd.api.types.is_numeric_dtype(content):\n",
        "    # Add binary column to indicate whether sample had missing values.\n",
        "    df_temp[label + \"_is_missing\"] = pd.isnull(content)\n",
        "    # Turn categories into number and add + 1\n",
        "    df_temp[label] = pd.Categorical(content).codes + 1"
      ],
      "metadata": {
        "id": "ZKDvQ7ONWYFh"
      },
      "execution_count": null,
      "outputs": []
    },
    {
      "cell_type": "code",
      "source": [
        "pd.Categorical(df_temp[\"UsageBand\"]).codes"
      ],
      "metadata": {
        "colab": {
          "base_uri": "https://localhost:8080/"
        },
        "id": "h7YOWbBhYNUm",
        "outputId": "24cf95ed-019a-45a4-ab66-9206836e4e16"
      },
      "execution_count": null,
      "outputs": [
        {
          "output_type": "execute_result",
          "data": {
            "text/plain": [
              "array([0, 0, 0, ..., 0, 0, 0], dtype=int8)"
            ]
          },
          "metadata": {},
          "execution_count": 45
        }
      ]
    },
    {
      "cell_type": "code",
      "source": [
        "df_temp.info()"
      ],
      "metadata": {
        "colab": {
          "base_uri": "https://localhost:8080/"
        },
        "id": "EN32mgvWarKI",
        "outputId": "cd502fbe-5439-4ca6-beb0-19a8ea64ab16"
      },
      "execution_count": null,
      "outputs": [
        {
          "output_type": "stream",
          "name": "stdout",
          "text": [
            "<class 'pandas.core.frame.DataFrame'>\n",
            "RangeIndex: 412698 entries, 0 to 412697\n",
            "Columns: 103 entries, SalesID to Steering_Controls_is_missing\n",
            "dtypes: bool(46), float64(3), int16(4), int64(10), int8(40)\n",
            "memory usage: 77.9 MB\n"
          ]
        }
      ]
    },
    {
      "cell_type": "code",
      "source": [
        "# Check for columns which aren't numeric\n",
        "for label, content in df_temp.items():\n",
        "  if not pd.api.types.is_numeric_dtype(content): #pd.api.types.is_string_dtype(content):\n",
        "    if pd.isnull(content).sum():\n",
        "      print(label)"
      ],
      "metadata": {
        "id": "VSuVbXx3a_Xm"
      },
      "execution_count": null,
      "outputs": []
    },
    {
      "cell_type": "code",
      "source": [
        "df_temp.head().T"
      ],
      "metadata": {
        "colab": {
          "base_uri": "https://localhost:8080/",
          "height": 424
        },
        "id": "N0BHB_KcbH3k",
        "outputId": "743dba6d-63e7-424b-8d9a-dd0be4c43b8d"
      },
      "execution_count": null,
      "outputs": [
        {
          "output_type": "execute_result",
          "data": {
            "text/plain": [
              "                                    0        1        2        3        4\n",
              "SalesID                       1646770  1821514  1505138  1671174  1329056\n",
              "SalePrice                      9500.0  14000.0  50000.0  16000.0  22000.0\n",
              "MachineID                     1126363  1194089  1473654  1327630  1336053\n",
              "ModelID                          8434    10150     4139     8591     4089\n",
              "datasource                        132      132      132      132      132\n",
              "...                               ...      ...      ...      ...      ...\n",
              "Backhoe_Mounting_is_missing     False     True    False     True    False\n",
              "Blade_Type_is_missing           False     True    False     True    False\n",
              "Travel_Controls_is_missing      False     True    False     True    False\n",
              "Differential_Type_is_missing     True    False     True    False     True\n",
              "Steering_Controls_is_missing     True    False     True    False     True\n",
              "\n",
              "[103 rows x 5 columns]"
            ],
            "text/html": [
              "\n",
              "  <div id=\"df-92b4c67f-2bf2-44ee-b721-e429172daa35\">\n",
              "    <div class=\"colab-df-container\">\n",
              "      <div>\n",
              "<style scoped>\n",
              "    .dataframe tbody tr th:only-of-type {\n",
              "        vertical-align: middle;\n",
              "    }\n",
              "\n",
              "    .dataframe tbody tr th {\n",
              "        vertical-align: top;\n",
              "    }\n",
              "\n",
              "    .dataframe thead th {\n",
              "        text-align: right;\n",
              "    }\n",
              "</style>\n",
              "<table border=\"1\" class=\"dataframe\">\n",
              "  <thead>\n",
              "    <tr style=\"text-align: right;\">\n",
              "      <th></th>\n",
              "      <th>0</th>\n",
              "      <th>1</th>\n",
              "      <th>2</th>\n",
              "      <th>3</th>\n",
              "      <th>4</th>\n",
              "    </tr>\n",
              "  </thead>\n",
              "  <tbody>\n",
              "    <tr>\n",
              "      <th>SalesID</th>\n",
              "      <td>1646770</td>\n",
              "      <td>1821514</td>\n",
              "      <td>1505138</td>\n",
              "      <td>1671174</td>\n",
              "      <td>1329056</td>\n",
              "    </tr>\n",
              "    <tr>\n",
              "      <th>SalePrice</th>\n",
              "      <td>9500.0</td>\n",
              "      <td>14000.0</td>\n",
              "      <td>50000.0</td>\n",
              "      <td>16000.0</td>\n",
              "      <td>22000.0</td>\n",
              "    </tr>\n",
              "    <tr>\n",
              "      <th>MachineID</th>\n",
              "      <td>1126363</td>\n",
              "      <td>1194089</td>\n",
              "      <td>1473654</td>\n",
              "      <td>1327630</td>\n",
              "      <td>1336053</td>\n",
              "    </tr>\n",
              "    <tr>\n",
              "      <th>ModelID</th>\n",
              "      <td>8434</td>\n",
              "      <td>10150</td>\n",
              "      <td>4139</td>\n",
              "      <td>8591</td>\n",
              "      <td>4089</td>\n",
              "    </tr>\n",
              "    <tr>\n",
              "      <th>datasource</th>\n",
              "      <td>132</td>\n",
              "      <td>132</td>\n",
              "      <td>132</td>\n",
              "      <td>132</td>\n",
              "      <td>132</td>\n",
              "    </tr>\n",
              "    <tr>\n",
              "      <th>...</th>\n",
              "      <td>...</td>\n",
              "      <td>...</td>\n",
              "      <td>...</td>\n",
              "      <td>...</td>\n",
              "      <td>...</td>\n",
              "    </tr>\n",
              "    <tr>\n",
              "      <th>Backhoe_Mounting_is_missing</th>\n",
              "      <td>False</td>\n",
              "      <td>True</td>\n",
              "      <td>False</td>\n",
              "      <td>True</td>\n",
              "      <td>False</td>\n",
              "    </tr>\n",
              "    <tr>\n",
              "      <th>Blade_Type_is_missing</th>\n",
              "      <td>False</td>\n",
              "      <td>True</td>\n",
              "      <td>False</td>\n",
              "      <td>True</td>\n",
              "      <td>False</td>\n",
              "    </tr>\n",
              "    <tr>\n",
              "      <th>Travel_Controls_is_missing</th>\n",
              "      <td>False</td>\n",
              "      <td>True</td>\n",
              "      <td>False</td>\n",
              "      <td>True</td>\n",
              "      <td>False</td>\n",
              "    </tr>\n",
              "    <tr>\n",
              "      <th>Differential_Type_is_missing</th>\n",
              "      <td>True</td>\n",
              "      <td>False</td>\n",
              "      <td>True</td>\n",
              "      <td>False</td>\n",
              "      <td>True</td>\n",
              "    </tr>\n",
              "    <tr>\n",
              "      <th>Steering_Controls_is_missing</th>\n",
              "      <td>True</td>\n",
              "      <td>False</td>\n",
              "      <td>True</td>\n",
              "      <td>False</td>\n",
              "      <td>True</td>\n",
              "    </tr>\n",
              "  </tbody>\n",
              "</table>\n",
              "<p>103 rows × 5 columns</p>\n",
              "</div>\n",
              "      <button class=\"colab-df-convert\" onclick=\"convertToInteractive('df-92b4c67f-2bf2-44ee-b721-e429172daa35')\"\n",
              "              title=\"Convert this dataframe to an interactive table.\"\n",
              "              style=\"display:none;\">\n",
              "        \n",
              "  <svg xmlns=\"http://www.w3.org/2000/svg\" height=\"24px\"viewBox=\"0 0 24 24\"\n",
              "       width=\"24px\">\n",
              "    <path d=\"M0 0h24v24H0V0z\" fill=\"none\"/>\n",
              "    <path d=\"M18.56 5.44l.94 2.06.94-2.06 2.06-.94-2.06-.94-.94-2.06-.94 2.06-2.06.94zm-11 1L8.5 8.5l.94-2.06 2.06-.94-2.06-.94L8.5 2.5l-.94 2.06-2.06.94zm10 10l.94 2.06.94-2.06 2.06-.94-2.06-.94-.94-2.06-.94 2.06-2.06.94z\"/><path d=\"M17.41 7.96l-1.37-1.37c-.4-.4-.92-.59-1.43-.59-.52 0-1.04.2-1.43.59L10.3 9.45l-7.72 7.72c-.78.78-.78 2.05 0 2.83L4 21.41c.39.39.9.59 1.41.59.51 0 1.02-.2 1.41-.59l7.78-7.78 2.81-2.81c.8-.78.8-2.07 0-2.86zM5.41 20L4 18.59l7.72-7.72 1.47 1.35L5.41 20z\"/>\n",
              "  </svg>\n",
              "      </button>\n",
              "      \n",
              "  <style>\n",
              "    .colab-df-container {\n",
              "      display:flex;\n",
              "      flex-wrap:wrap;\n",
              "      gap: 12px;\n",
              "    }\n",
              "\n",
              "    .colab-df-convert {\n",
              "      background-color: #E8F0FE;\n",
              "      border: none;\n",
              "      border-radius: 50%;\n",
              "      cursor: pointer;\n",
              "      display: none;\n",
              "      fill: #1967D2;\n",
              "      height: 32px;\n",
              "      padding: 0 0 0 0;\n",
              "      width: 32px;\n",
              "    }\n",
              "\n",
              "    .colab-df-convert:hover {\n",
              "      background-color: #E2EBFA;\n",
              "      box-shadow: 0px 1px 2px rgba(60, 64, 67, 0.3), 0px 1px 3px 1px rgba(60, 64, 67, 0.15);\n",
              "      fill: #174EA6;\n",
              "    }\n",
              "\n",
              "    [theme=dark] .colab-df-convert {\n",
              "      background-color: #3B4455;\n",
              "      fill: #D2E3FC;\n",
              "    }\n",
              "\n",
              "    [theme=dark] .colab-df-convert:hover {\n",
              "      background-color: #434B5C;\n",
              "      box-shadow: 0px 1px 3px 1px rgba(0, 0, 0, 0.15);\n",
              "      filter: drop-shadow(0px 1px 2px rgba(0, 0, 0, 0.3));\n",
              "      fill: #FFFFFF;\n",
              "    }\n",
              "  </style>\n",
              "\n",
              "      <script>\n",
              "        const buttonEl =\n",
              "          document.querySelector('#df-92b4c67f-2bf2-44ee-b721-e429172daa35 button.colab-df-convert');\n",
              "        buttonEl.style.display =\n",
              "          google.colab.kernel.accessAllowed ? 'block' : 'none';\n",
              "\n",
              "        async function convertToInteractive(key) {\n",
              "          const element = document.querySelector('#df-92b4c67f-2bf2-44ee-b721-e429172daa35');\n",
              "          const dataTable =\n",
              "            await google.colab.kernel.invokeFunction('convertToInteractive',\n",
              "                                                     [key], {});\n",
              "          if (!dataTable) return;\n",
              "\n",
              "          const docLinkHtml = 'Like what you see? Visit the ' +\n",
              "            '<a target=\"_blank\" href=https://colab.research.google.com/notebooks/data_table.ipynb>data table notebook</a>'\n",
              "            + ' to learn more about interactive tables.';\n",
              "          element.innerHTML = '';\n",
              "          dataTable['output_type'] = 'display_data';\n",
              "          await google.colab.output.renderOutput(dataTable, element);\n",
              "          const docLink = document.createElement('div');\n",
              "          docLink.innerHTML = docLinkHtml;\n",
              "          element.appendChild(docLink);\n",
              "        }\n",
              "      </script>\n",
              "    </div>\n",
              "  </div>\n",
              "  "
            ]
          },
          "metadata": {},
          "execution_count": 55
        }
      ]
    },
    {
      "cell_type": "code",
      "source": [
        "df_temp.isna().sum()[:-10]"
      ],
      "metadata": {
        "colab": {
          "base_uri": "https://localhost:8080/"
        },
        "id": "awH7lOGEdSd2",
        "outputId": "7a5d9fe0-4894-460f-eaa7-1948dfa11cfb"
      },
      "execution_count": null,
      "outputs": [
        {
          "output_type": "execute_result",
          "data": {
            "text/plain": [
              "SalesID                       0\n",
              "SalePrice                     0\n",
              "MachineID                     0\n",
              "ModelID                       0\n",
              "datasource                    0\n",
              "                             ..\n",
              "Coupler_is_missing            0\n",
              "Coupler_System_is_missing     0\n",
              "Grouser_Tracks_is_missing     0\n",
              "Hydraulics_Flow_is_missing    0\n",
              "Track_Type_is_missing         0\n",
              "Length: 93, dtype: int64"
            ]
          },
          "metadata": {},
          "execution_count": 61
        }
      ]
    },
    {
      "cell_type": "markdown",
      "source": [
        "Now that all of data is numeric as well as our dataframe has no missing values, we should be able to build a machine learning model."
      ],
      "metadata": {
        "id": "0eEMwNS5dyh5"
      }
    },
    {
      "cell_type": "markdown",
      "source": [
        "## Fitting Model"
      ],
      "metadata": {
        "id": "pTfaPZk_eShx"
      }
    },
    {
      "cell_type": "code",
      "source": [
        "df_temp.head()"
      ],
      "metadata": {
        "colab": {
          "base_uri": "https://localhost:8080/",
          "height": 300
        },
        "id": "IhnH_17sdWtN",
        "outputId": "c8ed3d38-e074-4fba-f1a1-5507cfc9237a"
      },
      "execution_count": null,
      "outputs": [
        {
          "output_type": "execute_result",
          "data": {
            "text/plain": [
              "   SalesID  SalePrice  MachineID  ModelID  datasource  auctioneerID  YearMade  \\\n",
              "0  1646770     9500.0    1126363     8434         132          18.0      1974   \n",
              "1  1821514    14000.0    1194089    10150         132          99.0      1980   \n",
              "2  1505138    50000.0    1473654     4139         132          99.0      1978   \n",
              "3  1671174    16000.0    1327630     8591         132          99.0      1980   \n",
              "4  1329056    22000.0    1336053     4089         132          99.0      1984   \n",
              "\n",
              "   MachineHoursCurrentMeter  UsageBand  fiModelDesc  ...  \\\n",
              "0                       0.0          0         4593  ...   \n",
              "1                       0.0          0         1820  ...   \n",
              "2                       0.0          0         2348  ...   \n",
              "3                       0.0          0         1819  ...   \n",
              "4                       0.0          0         2119  ...   \n",
              "\n",
              "   Undercarriage_Pad_Width_is_missing  Stick_Length_is_missing  \\\n",
              "0                                True                     True   \n",
              "1                                True                     True   \n",
              "2                                True                     True   \n",
              "3                                True                     True   \n",
              "4                                True                     True   \n",
              "\n",
              "   Thumb_is_missing  Pattern_Changer_is_missing  Grouser_Type_is_missing  \\\n",
              "0              True                        True                     True   \n",
              "1              True                        True                     True   \n",
              "2              True                        True                     True   \n",
              "3              True                        True                     True   \n",
              "4              True                        True                     True   \n",
              "\n",
              "   Backhoe_Mounting_is_missing  Blade_Type_is_missing  \\\n",
              "0                        False                  False   \n",
              "1                         True                   True   \n",
              "2                        False                  False   \n",
              "3                         True                   True   \n",
              "4                        False                  False   \n",
              "\n",
              "   Travel_Controls_is_missing  Differential_Type_is_missing  \\\n",
              "0                       False                          True   \n",
              "1                        True                         False   \n",
              "2                       False                          True   \n",
              "3                        True                         False   \n",
              "4                       False                          True   \n",
              "\n",
              "   Steering_Controls_is_missing  \n",
              "0                          True  \n",
              "1                         False  \n",
              "2                          True  \n",
              "3                         False  \n",
              "4                          True  \n",
              "\n",
              "[5 rows x 103 columns]"
            ],
            "text/html": [
              "\n",
              "  <div id=\"df-435dc829-03ee-47b5-aebe-13bcca171313\">\n",
              "    <div class=\"colab-df-container\">\n",
              "      <div>\n",
              "<style scoped>\n",
              "    .dataframe tbody tr th:only-of-type {\n",
              "        vertical-align: middle;\n",
              "    }\n",
              "\n",
              "    .dataframe tbody tr th {\n",
              "        vertical-align: top;\n",
              "    }\n",
              "\n",
              "    .dataframe thead th {\n",
              "        text-align: right;\n",
              "    }\n",
              "</style>\n",
              "<table border=\"1\" class=\"dataframe\">\n",
              "  <thead>\n",
              "    <tr style=\"text-align: right;\">\n",
              "      <th></th>\n",
              "      <th>SalesID</th>\n",
              "      <th>SalePrice</th>\n",
              "      <th>MachineID</th>\n",
              "      <th>ModelID</th>\n",
              "      <th>datasource</th>\n",
              "      <th>auctioneerID</th>\n",
              "      <th>YearMade</th>\n",
              "      <th>MachineHoursCurrentMeter</th>\n",
              "      <th>UsageBand</th>\n",
              "      <th>fiModelDesc</th>\n",
              "      <th>...</th>\n",
              "      <th>Undercarriage_Pad_Width_is_missing</th>\n",
              "      <th>Stick_Length_is_missing</th>\n",
              "      <th>Thumb_is_missing</th>\n",
              "      <th>Pattern_Changer_is_missing</th>\n",
              "      <th>Grouser_Type_is_missing</th>\n",
              "      <th>Backhoe_Mounting_is_missing</th>\n",
              "      <th>Blade_Type_is_missing</th>\n",
              "      <th>Travel_Controls_is_missing</th>\n",
              "      <th>Differential_Type_is_missing</th>\n",
              "      <th>Steering_Controls_is_missing</th>\n",
              "    </tr>\n",
              "  </thead>\n",
              "  <tbody>\n",
              "    <tr>\n",
              "      <th>0</th>\n",
              "      <td>1646770</td>\n",
              "      <td>9500.0</td>\n",
              "      <td>1126363</td>\n",
              "      <td>8434</td>\n",
              "      <td>132</td>\n",
              "      <td>18.0</td>\n",
              "      <td>1974</td>\n",
              "      <td>0.0</td>\n",
              "      <td>0</td>\n",
              "      <td>4593</td>\n",
              "      <td>...</td>\n",
              "      <td>True</td>\n",
              "      <td>True</td>\n",
              "      <td>True</td>\n",
              "      <td>True</td>\n",
              "      <td>True</td>\n",
              "      <td>False</td>\n",
              "      <td>False</td>\n",
              "      <td>False</td>\n",
              "      <td>True</td>\n",
              "      <td>True</td>\n",
              "    </tr>\n",
              "    <tr>\n",
              "      <th>1</th>\n",
              "      <td>1821514</td>\n",
              "      <td>14000.0</td>\n",
              "      <td>1194089</td>\n",
              "      <td>10150</td>\n",
              "      <td>132</td>\n",
              "      <td>99.0</td>\n",
              "      <td>1980</td>\n",
              "      <td>0.0</td>\n",
              "      <td>0</td>\n",
              "      <td>1820</td>\n",
              "      <td>...</td>\n",
              "      <td>True</td>\n",
              "      <td>True</td>\n",
              "      <td>True</td>\n",
              "      <td>True</td>\n",
              "      <td>True</td>\n",
              "      <td>True</td>\n",
              "      <td>True</td>\n",
              "      <td>True</td>\n",
              "      <td>False</td>\n",
              "      <td>False</td>\n",
              "    </tr>\n",
              "    <tr>\n",
              "      <th>2</th>\n",
              "      <td>1505138</td>\n",
              "      <td>50000.0</td>\n",
              "      <td>1473654</td>\n",
              "      <td>4139</td>\n",
              "      <td>132</td>\n",
              "      <td>99.0</td>\n",
              "      <td>1978</td>\n",
              "      <td>0.0</td>\n",
              "      <td>0</td>\n",
              "      <td>2348</td>\n",
              "      <td>...</td>\n",
              "      <td>True</td>\n",
              "      <td>True</td>\n",
              "      <td>True</td>\n",
              "      <td>True</td>\n",
              "      <td>True</td>\n",
              "      <td>False</td>\n",
              "      <td>False</td>\n",
              "      <td>False</td>\n",
              "      <td>True</td>\n",
              "      <td>True</td>\n",
              "    </tr>\n",
              "    <tr>\n",
              "      <th>3</th>\n",
              "      <td>1671174</td>\n",
              "      <td>16000.0</td>\n",
              "      <td>1327630</td>\n",
              "      <td>8591</td>\n",
              "      <td>132</td>\n",
              "      <td>99.0</td>\n",
              "      <td>1980</td>\n",
              "      <td>0.0</td>\n",
              "      <td>0</td>\n",
              "      <td>1819</td>\n",
              "      <td>...</td>\n",
              "      <td>True</td>\n",
              "      <td>True</td>\n",
              "      <td>True</td>\n",
              "      <td>True</td>\n",
              "      <td>True</td>\n",
              "      <td>True</td>\n",
              "      <td>True</td>\n",
              "      <td>True</td>\n",
              "      <td>False</td>\n",
              "      <td>False</td>\n",
              "    </tr>\n",
              "    <tr>\n",
              "      <th>4</th>\n",
              "      <td>1329056</td>\n",
              "      <td>22000.0</td>\n",
              "      <td>1336053</td>\n",
              "      <td>4089</td>\n",
              "      <td>132</td>\n",
              "      <td>99.0</td>\n",
              "      <td>1984</td>\n",
              "      <td>0.0</td>\n",
              "      <td>0</td>\n",
              "      <td>2119</td>\n",
              "      <td>...</td>\n",
              "      <td>True</td>\n",
              "      <td>True</td>\n",
              "      <td>True</td>\n",
              "      <td>True</td>\n",
              "      <td>True</td>\n",
              "      <td>False</td>\n",
              "      <td>False</td>\n",
              "      <td>False</td>\n",
              "      <td>True</td>\n",
              "      <td>True</td>\n",
              "    </tr>\n",
              "  </tbody>\n",
              "</table>\n",
              "<p>5 rows × 103 columns</p>\n",
              "</div>\n",
              "      <button class=\"colab-df-convert\" onclick=\"convertToInteractive('df-435dc829-03ee-47b5-aebe-13bcca171313')\"\n",
              "              title=\"Convert this dataframe to an interactive table.\"\n",
              "              style=\"display:none;\">\n",
              "        \n",
              "  <svg xmlns=\"http://www.w3.org/2000/svg\" height=\"24px\"viewBox=\"0 0 24 24\"\n",
              "       width=\"24px\">\n",
              "    <path d=\"M0 0h24v24H0V0z\" fill=\"none\"/>\n",
              "    <path d=\"M18.56 5.44l.94 2.06.94-2.06 2.06-.94-2.06-.94-.94-2.06-.94 2.06-2.06.94zm-11 1L8.5 8.5l.94-2.06 2.06-.94-2.06-.94L8.5 2.5l-.94 2.06-2.06.94zm10 10l.94 2.06.94-2.06 2.06-.94-2.06-.94-.94-2.06-.94 2.06-2.06.94z\"/><path d=\"M17.41 7.96l-1.37-1.37c-.4-.4-.92-.59-1.43-.59-.52 0-1.04.2-1.43.59L10.3 9.45l-7.72 7.72c-.78.78-.78 2.05 0 2.83L4 21.41c.39.39.9.59 1.41.59.51 0 1.02-.2 1.41-.59l7.78-7.78 2.81-2.81c.8-.78.8-2.07 0-2.86zM5.41 20L4 18.59l7.72-7.72 1.47 1.35L5.41 20z\"/>\n",
              "  </svg>\n",
              "      </button>\n",
              "      \n",
              "  <style>\n",
              "    .colab-df-container {\n",
              "      display:flex;\n",
              "      flex-wrap:wrap;\n",
              "      gap: 12px;\n",
              "    }\n",
              "\n",
              "    .colab-df-convert {\n",
              "      background-color: #E8F0FE;\n",
              "      border: none;\n",
              "      border-radius: 50%;\n",
              "      cursor: pointer;\n",
              "      display: none;\n",
              "      fill: #1967D2;\n",
              "      height: 32px;\n",
              "      padding: 0 0 0 0;\n",
              "      width: 32px;\n",
              "    }\n",
              "\n",
              "    .colab-df-convert:hover {\n",
              "      background-color: #E2EBFA;\n",
              "      box-shadow: 0px 1px 2px rgba(60, 64, 67, 0.3), 0px 1px 3px 1px rgba(60, 64, 67, 0.15);\n",
              "      fill: #174EA6;\n",
              "    }\n",
              "\n",
              "    [theme=dark] .colab-df-convert {\n",
              "      background-color: #3B4455;\n",
              "      fill: #D2E3FC;\n",
              "    }\n",
              "\n",
              "    [theme=dark] .colab-df-convert:hover {\n",
              "      background-color: #434B5C;\n",
              "      box-shadow: 0px 1px 3px 1px rgba(0, 0, 0, 0.15);\n",
              "      filter: drop-shadow(0px 1px 2px rgba(0, 0, 0, 0.3));\n",
              "      fill: #FFFFFF;\n",
              "    }\n",
              "  </style>\n",
              "\n",
              "      <script>\n",
              "        const buttonEl =\n",
              "          document.querySelector('#df-435dc829-03ee-47b5-aebe-13bcca171313 button.colab-df-convert');\n",
              "        buttonEl.style.display =\n",
              "          google.colab.kernel.accessAllowed ? 'block' : 'none';\n",
              "\n",
              "        async function convertToInteractive(key) {\n",
              "          const element = document.querySelector('#df-435dc829-03ee-47b5-aebe-13bcca171313');\n",
              "          const dataTable =\n",
              "            await google.colab.kernel.invokeFunction('convertToInteractive',\n",
              "                                                     [key], {});\n",
              "          if (!dataTable) return;\n",
              "\n",
              "          const docLinkHtml = 'Like what you see? Visit the ' +\n",
              "            '<a target=\"_blank\" href=https://colab.research.google.com/notebooks/data_table.ipynb>data table notebook</a>'\n",
              "            + ' to learn more about interactive tables.';\n",
              "          element.innerHTML = '';\n",
              "          dataTable['output_type'] = 'display_data';\n",
              "          await google.colab.output.renderOutput(dataTable, element);\n",
              "          const docLink = document.createElement('div');\n",
              "          docLink.innerHTML = docLinkHtml;\n",
              "          element.appendChild(docLink);\n",
              "        }\n",
              "      </script>\n",
              "    </div>\n",
              "  </div>\n",
              "  "
            ]
          },
          "metadata": {},
          "execution_count": 62
        }
      ]
    },
    {
      "cell_type": "code",
      "source": [
        "len(df_temp)"
      ],
      "metadata": {
        "colab": {
          "base_uri": "https://localhost:8080/"
        },
        "id": "UvfM3Kl8eJ32",
        "outputId": "51c264b3-ffc5-4acb-facc-344f571fea94"
      },
      "execution_count": null,
      "outputs": [
        {
          "output_type": "execute_result",
          "data": {
            "text/plain": [
              "412698"
            ]
          },
          "metadata": {},
          "execution_count": 63
        }
      ]
    },
    {
      "cell_type": "markdown",
      "source": [
        "### Define dataset and Split datasets"
      ],
      "metadata": {
        "id": "x24KQwwDfbEf"
      }
    },
    {
      "cell_type": "markdown",
      "source": [
        "### Splitting data into train/validation sets\n",
        "\n",
        "* Train.csv is the training set, which contains data through the end of 2011.\n",
        "* Valid.csv is the validation set, which contains data from January 1, 2012 - April 30, 2012"
      ],
      "metadata": {
        "id": "4zUF3L7PgO5B"
      }
    },
    {
      "cell_type": "code",
      "source": [
        "df_temp.saleYear.value_counts()"
      ],
      "metadata": {
        "colab": {
          "base_uri": "https://localhost:8080/"
        },
        "id": "4Jsq4TPpfZkz",
        "outputId": "973376b0-e649-4746-d9c6-12124668ca4b"
      },
      "execution_count": null,
      "outputs": [
        {
          "output_type": "execute_result",
          "data": {
            "text/plain": [
              "2009    43849\n",
              "2008    39767\n",
              "2011    35197\n",
              "2010    33390\n",
              "2007    32208\n",
              "2006    21685\n",
              "2005    20463\n",
              "2004    19879\n",
              "2001    17594\n",
              "2000    17415\n",
              "2002    17246\n",
              "2003    15254\n",
              "1998    13046\n",
              "1999    12793\n",
              "2012    11573\n",
              "1997     9785\n",
              "1996     8829\n",
              "1995     8530\n",
              "1994     7929\n",
              "1993     6303\n",
              "1992     5519\n",
              "1991     5109\n",
              "1989     4806\n",
              "1990     4529\n",
              "Name: saleYear, dtype: int64"
            ]
          },
          "metadata": {},
          "execution_count": 66
        }
      ]
    },
    {
      "cell_type": "code",
      "source": [
        "# Split data into training and validation\n",
        "df_train = df_temp[df_temp.saleYear != 2012]\n",
        "df_val = df_temp[df_temp.saleYear == 2012]\n",
        "\n",
        "len(df_train), len(df_val)"
      ],
      "metadata": {
        "colab": {
          "base_uri": "https://localhost:8080/"
        },
        "id": "HFn4Snysf49Z",
        "outputId": "3afe8f3e-0102-48b0-a180-f3107faececd"
      },
      "execution_count": null,
      "outputs": [
        {
          "output_type": "execute_result",
          "data": {
            "text/plain": [
              "(401125, 11573)"
            ]
          },
          "metadata": {},
          "execution_count": 68
        }
      ]
    },
    {
      "cell_type": "code",
      "source": [
        "# Split data into X & y\n",
        "X_train, y_train = df_train.drop(\"SalePrice\", axis=1), df_train.SalePrice\n",
        "\n",
        "X_valid, y_valid = df_val.drop(\"SalePrice\", axis=1), df_val.SalePrice\n",
        "\n",
        "X_train.shape,y_train.shape, X_valid.shape, y_valid.shape"
      ],
      "metadata": {
        "colab": {
          "base_uri": "https://localhost:8080/"
        },
        "id": "0bmEGLOYhYpG",
        "outputId": "91cf2fe7-00d7-4371-9744-de9edd166390"
      },
      "execution_count": null,
      "outputs": [
        {
          "output_type": "execute_result",
          "data": {
            "text/plain": [
              "((401125, 102), (401125,), (11573, 102), (11573,))"
            ]
          },
          "metadata": {},
          "execution_count": 69
        }
      ]
    },
    {
      "cell_type": "markdown",
      "source": [
        "### Building an evaluation function"
      ],
      "metadata": {
        "id": "U8O7UIyyh6XU"
      }
    },
    {
      "cell_type": "code",
      "source": [
        "# Create evaluation function (the competition uses RMSLE)\n",
        "from sklearn.metrics import mean_squared_log_error, mean_absolute_error,r2_score\n",
        "\n",
        "def rmsle(y_test, y_preds):\n",
        "  \"\"\"\n",
        "  Calculate root mean squared log error between predictions and true label.\n",
        "  \"\"\"\n",
        "  return np.sqrt(mean_squared_log_error(y_test, y_preds))\n",
        "\n",
        "\n",
        "# Create function to evaluate model on a feww different levels\n",
        "def show_scores(model):\n",
        "  train_preds = model.predict(X_train)\n",
        "  val_preds = model.predict(X_valid)\n",
        "  scores={\"Training MAE\": mean_absolute_error(y_train, train_preds),\n",
        "          \"Valid MAE\": mean_absolute_error(y_valid, val_preds),\n",
        "          \"Training RMSLE\": rmsle(y_train, train_preds),\n",
        "          \"Valid RMSLE\": rmsle(y_valid, val_preds),\n",
        "          \"Training R^2\": r2_score(y_train, train_preds),\n",
        "          \"Valid R^2\": r2_score(y_valid, val_preds)}\n",
        "  \n",
        "  return scores\n"
      ],
      "metadata": {
        "id": "a2ROJRRXiq_k"
      },
      "execution_count": null,
      "outputs": []
    },
    {
      "cell_type": "markdown",
      "source": [
        "## Testing our model on a subset (to tune the hyperparameters)"
      ],
      "metadata": {
        "id": "J3MFUyszk5T1"
      }
    },
    {
      "cell_type": "code",
      "source": [
        "# THis takes too long... for experimenting (401125 samples)\n",
        "# %%time\n",
        "# model = RandomForestRegressor(n_job=-1,\n",
        "#                               random_state=42)\n",
        "\n",
        "# model.fit(X_train, y_train)"
      ],
      "metadata": {
        "id": "C7FlyqMjlQBd"
      },
      "execution_count": null,
      "outputs": []
    },
    {
      "cell_type": "markdown",
      "source": [
        "### Reduce samples"
      ],
      "metadata": {
        "id": "JQHeXjsSl7jc"
      }
    },
    {
      "cell_type": "code",
      "source": [
        "# Change max_samples value\n",
        "# max_sample: limit the sample in each n_estimator\n",
        "model = RandomForestRegressor(n_jobs=-1,\n",
        "                              random_state=42,\n",
        "                              max_samples=10000,\n",
        "                              n_estimators=100)"
      ],
      "metadata": {
        "id": "_IuacEe0lwD8"
      },
      "execution_count": null,
      "outputs": []
    },
    {
      "cell_type": "code",
      "source": [
        "%%time\n",
        "# Cutting down on the max number of samples each estimator can see \n",
        "# improve training time.\n",
        "model.fit(X_train, y_train)\n"
      ],
      "metadata": {
        "colab": {
          "base_uri": "https://localhost:8080/",
          "height": 109
        },
        "id": "W0aAeJlGmWn7",
        "outputId": "620ffa0a-b7a5-4c67-844f-ed50ba4f4b87"
      },
      "execution_count": null,
      "outputs": [
        {
          "output_type": "stream",
          "name": "stdout",
          "text": [
            "CPU times: user 41.3 s, sys: 679 ms, total: 42 s\n",
            "Wall time: 26.2 s\n"
          ]
        },
        {
          "output_type": "execute_result",
          "data": {
            "text/plain": [
              "RandomForestRegressor(max_samples=10000, n_jobs=-1, random_state=42)"
            ],
            "text/html": [
              "<style>#sk-container-id-1 {color: black;background-color: white;}#sk-container-id-1 pre{padding: 0;}#sk-container-id-1 div.sk-toggleable {background-color: white;}#sk-container-id-1 label.sk-toggleable__label {cursor: pointer;display: block;width: 100%;margin-bottom: 0;padding: 0.3em;box-sizing: border-box;text-align: center;}#sk-container-id-1 label.sk-toggleable__label-arrow:before {content: \"▸\";float: left;margin-right: 0.25em;color: #696969;}#sk-container-id-1 label.sk-toggleable__label-arrow:hover:before {color: black;}#sk-container-id-1 div.sk-estimator:hover label.sk-toggleable__label-arrow:before {color: black;}#sk-container-id-1 div.sk-toggleable__content {max-height: 0;max-width: 0;overflow: hidden;text-align: left;background-color: #f0f8ff;}#sk-container-id-1 div.sk-toggleable__content pre {margin: 0.2em;color: black;border-radius: 0.25em;background-color: #f0f8ff;}#sk-container-id-1 input.sk-toggleable__control:checked~div.sk-toggleable__content {max-height: 200px;max-width: 100%;overflow: auto;}#sk-container-id-1 input.sk-toggleable__control:checked~label.sk-toggleable__label-arrow:before {content: \"▾\";}#sk-container-id-1 div.sk-estimator input.sk-toggleable__control:checked~label.sk-toggleable__label {background-color: #d4ebff;}#sk-container-id-1 div.sk-label input.sk-toggleable__control:checked~label.sk-toggleable__label {background-color: #d4ebff;}#sk-container-id-1 input.sk-hidden--visually {border: 0;clip: rect(1px 1px 1px 1px);clip: rect(1px, 1px, 1px, 1px);height: 1px;margin: -1px;overflow: hidden;padding: 0;position: absolute;width: 1px;}#sk-container-id-1 div.sk-estimator {font-family: monospace;background-color: #f0f8ff;border: 1px dotted black;border-radius: 0.25em;box-sizing: border-box;margin-bottom: 0.5em;}#sk-container-id-1 div.sk-estimator:hover {background-color: #d4ebff;}#sk-container-id-1 div.sk-parallel-item::after {content: \"\";width: 100%;border-bottom: 1px solid gray;flex-grow: 1;}#sk-container-id-1 div.sk-label:hover label.sk-toggleable__label {background-color: #d4ebff;}#sk-container-id-1 div.sk-serial::before {content: \"\";position: absolute;border-left: 1px solid gray;box-sizing: border-box;top: 0;bottom: 0;left: 50%;z-index: 0;}#sk-container-id-1 div.sk-serial {display: flex;flex-direction: column;align-items: center;background-color: white;padding-right: 0.2em;padding-left: 0.2em;position: relative;}#sk-container-id-1 div.sk-item {position: relative;z-index: 1;}#sk-container-id-1 div.sk-parallel {display: flex;align-items: stretch;justify-content: center;background-color: white;position: relative;}#sk-container-id-1 div.sk-item::before, #sk-container-id-1 div.sk-parallel-item::before {content: \"\";position: absolute;border-left: 1px solid gray;box-sizing: border-box;top: 0;bottom: 0;left: 50%;z-index: -1;}#sk-container-id-1 div.sk-parallel-item {display: flex;flex-direction: column;z-index: 1;position: relative;background-color: white;}#sk-container-id-1 div.sk-parallel-item:first-child::after {align-self: flex-end;width: 50%;}#sk-container-id-1 div.sk-parallel-item:last-child::after {align-self: flex-start;width: 50%;}#sk-container-id-1 div.sk-parallel-item:only-child::after {width: 0;}#sk-container-id-1 div.sk-dashed-wrapped {border: 1px dashed gray;margin: 0 0.4em 0.5em 0.4em;box-sizing: border-box;padding-bottom: 0.4em;background-color: white;}#sk-container-id-1 div.sk-label label {font-family: monospace;font-weight: bold;display: inline-block;line-height: 1.2em;}#sk-container-id-1 div.sk-label-container {text-align: center;}#sk-container-id-1 div.sk-container {/* jupyter's `normalize.less` sets `[hidden] { display: none; }` but bootstrap.min.css set `[hidden] { display: none !important; }` so we also need the `!important` here to be able to override the default hidden behavior on the sphinx rendered scikit-learn.org. See: https://github.com/scikit-learn/scikit-learn/issues/21755 */display: inline-block !important;position: relative;}#sk-container-id-1 div.sk-text-repr-fallback {display: none;}</style><div id=\"sk-container-id-1\" class=\"sk-top-container\"><div class=\"sk-text-repr-fallback\"><pre>RandomForestRegressor(max_samples=10000, n_jobs=-1, random_state=42)</pre><b>In a Jupyter environment, please rerun this cell to show the HTML representation or trust the notebook. <br />On GitHub, the HTML representation is unable to render, please try loading this page with nbviewer.org.</b></div><div class=\"sk-container\" hidden><div class=\"sk-item\"><div class=\"sk-estimator sk-toggleable\"><input class=\"sk-toggleable__control sk-hidden--visually\" id=\"sk-estimator-id-1\" type=\"checkbox\" checked><label for=\"sk-estimator-id-1\" class=\"sk-toggleable__label sk-toggleable__label-arrow\">RandomForestRegressor</label><div class=\"sk-toggleable__content\"><pre>RandomForestRegressor(max_samples=10000, n_jobs=-1, random_state=42)</pre></div></div></div></div></div>"
            ]
          },
          "metadata": {},
          "execution_count": 74
        }
      ]
    },
    {
      "cell_type": "code",
      "source": [
        "show_scores(model)"
      ],
      "metadata": {
        "colab": {
          "base_uri": "https://localhost:8080/"
        },
        "id": "vijMo4eOm_D0",
        "outputId": "d732c675-d768-42e9-ca25-ce6d236a98bf"
      },
      "execution_count": null,
      "outputs": [
        {
          "output_type": "execute_result",
          "data": {
            "text/plain": [
              "{'Training MAE': 5561.2988092240585,\n",
              " 'Valid MAE': 7177.26365505919,\n",
              " 'Training RMSLE': 0.257745378256977,\n",
              " 'Valid RMSLE': 0.29362638671089003,\n",
              " 'Training R^2': 0.8606658995199189,\n",
              " 'Valid R^2': 0.8320374995090507}"
            ]
          },
          "metadata": {},
          "execution_count": 75
        }
      ]
    },
    {
      "cell_type": "markdown",
      "source": [
        "### Hyperparameter tuning with RandomizedSearchCV"
      ],
      "metadata": {
        "id": "5nlsjDFXn3Tt"
      }
    },
    {
      "cell_type": "code",
      "source": [
        "%%time\n",
        "from sklearn.model_selection import RandomizedSearchCV\n",
        "\n",
        "\n",
        "# Different RandomForestRegressor hyperparameters\n",
        "rf_grid={\"n_estimators\": np.arange(10, 100, 10),\n",
        "         \"max_depth\": [None, 3,5,10],\n",
        "         \"min_samples_split\":np.arange(2,20,2),\n",
        "         \"min_samples_leaf\": np.arange(1,20,2),\n",
        "         \"max_features\":[0.5, 1, \"sqrt\",\"auto\"],\n",
        "         \"max_samples\":[12000]}\n",
        "\n",
        "# Instatiate RandomizedSearchCV model\n",
        "rs_model = RandomizedSearchCV(RandomForestRegressor(n_jobs=-1,\n",
        "                                                    random_state=42),\n",
        "                              param_distributions=rf_grid,\n",
        "                              n_iter=5,\n",
        "                              cv=5,\n",
        "                              verbose=True)\n",
        "\n",
        "# Fit the RandomizedSearchCV model\n",
        "rs_model.fit(X_train, y_train)         "
      ],
      "metadata": {
        "colab": {
          "base_uri": "https://localhost:8080/",
          "height": 618
        },
        "id": "-eORom0ynPXb",
        "outputId": "02216a11-9c41-47a7-c985-109a26d0c46e"
      },
      "execution_count": null,
      "outputs": [
        {
          "output_type": "stream",
          "name": "stdout",
          "text": [
            "Fitting 5 folds for each of 5 candidates, totalling 25 fits\n"
          ]
        },
        {
          "output_type": "stream",
          "name": "stderr",
          "text": [
            "/usr/local/lib/python3.8/dist-packages/sklearn/ensemble/_forest.py:413: FutureWarning: `max_features='auto'` has been deprecated in 1.1 and will be removed in 1.3. To keep the past behaviour, explicitly set `max_features=1.0` or remove this parameter as it is also the default value for RandomForestRegressors and ExtraTreesRegressors.\n",
            "  warn(\n",
            "/usr/local/lib/python3.8/dist-packages/sklearn/ensemble/_forest.py:413: FutureWarning: `max_features='auto'` has been deprecated in 1.1 and will be removed in 1.3. To keep the past behaviour, explicitly set `max_features=1.0` or remove this parameter as it is also the default value for RandomForestRegressors and ExtraTreesRegressors.\n",
            "  warn(\n",
            "/usr/local/lib/python3.8/dist-packages/sklearn/ensemble/_forest.py:413: FutureWarning: `max_features='auto'` has been deprecated in 1.1 and will be removed in 1.3. To keep the past behaviour, explicitly set `max_features=1.0` or remove this parameter as it is also the default value for RandomForestRegressors and ExtraTreesRegressors.\n",
            "  warn(\n",
            "/usr/local/lib/python3.8/dist-packages/sklearn/ensemble/_forest.py:413: FutureWarning: `max_features='auto'` has been deprecated in 1.1 and will be removed in 1.3. To keep the past behaviour, explicitly set `max_features=1.0` or remove this parameter as it is also the default value for RandomForestRegressors and ExtraTreesRegressors.\n",
            "  warn(\n",
            "/usr/local/lib/python3.8/dist-packages/sklearn/ensemble/_forest.py:413: FutureWarning: `max_features='auto'` has been deprecated in 1.1 and will be removed in 1.3. To keep the past behaviour, explicitly set `max_features=1.0` or remove this parameter as it is also the default value for RandomForestRegressors and ExtraTreesRegressors.\n",
            "  warn(\n",
            "/usr/local/lib/python3.8/dist-packages/sklearn/ensemble/_forest.py:413: FutureWarning: `max_features='auto'` has been deprecated in 1.1 and will be removed in 1.3. To keep the past behaviour, explicitly set `max_features=1.0` or remove this parameter as it is also the default value for RandomForestRegressors and ExtraTreesRegressors.\n",
            "  warn(\n",
            "/usr/local/lib/python3.8/dist-packages/sklearn/ensemble/_forest.py:413: FutureWarning: `max_features='auto'` has been deprecated in 1.1 and will be removed in 1.3. To keep the past behaviour, explicitly set `max_features=1.0` or remove this parameter as it is also the default value for RandomForestRegressors and ExtraTreesRegressors.\n",
            "  warn(\n",
            "/usr/local/lib/python3.8/dist-packages/sklearn/ensemble/_forest.py:413: FutureWarning: `max_features='auto'` has been deprecated in 1.1 and will be removed in 1.3. To keep the past behaviour, explicitly set `max_features=1.0` or remove this parameter as it is also the default value for RandomForestRegressors and ExtraTreesRegressors.\n",
            "  warn(\n",
            "/usr/local/lib/python3.8/dist-packages/sklearn/ensemble/_forest.py:413: FutureWarning: `max_features='auto'` has been deprecated in 1.1 and will be removed in 1.3. To keep the past behaviour, explicitly set `max_features=1.0` or remove this parameter as it is also the default value for RandomForestRegressors and ExtraTreesRegressors.\n",
            "  warn(\n",
            "/usr/local/lib/python3.8/dist-packages/sklearn/ensemble/_forest.py:413: FutureWarning: `max_features='auto'` has been deprecated in 1.1 and will be removed in 1.3. To keep the past behaviour, explicitly set `max_features=1.0` or remove this parameter as it is also the default value for RandomForestRegressors and ExtraTreesRegressors.\n",
            "  warn(\n",
            "/usr/local/lib/python3.8/dist-packages/sklearn/ensemble/_forest.py:413: FutureWarning: `max_features='auto'` has been deprecated in 1.1 and will be removed in 1.3. To keep the past behaviour, explicitly set `max_features=1.0` or remove this parameter as it is also the default value for RandomForestRegressors and ExtraTreesRegressors.\n",
            "  warn(\n"
          ]
        },
        {
          "output_type": "stream",
          "name": "stdout",
          "text": [
            "CPU times: user 38.3 s, sys: 5.59 s, total: 43.9 s\n",
            "Wall time: 2min 25s\n"
          ]
        },
        {
          "output_type": "execute_result",
          "data": {
            "text/plain": [
              "RandomizedSearchCV(cv=5,\n",
              "                   estimator=RandomForestRegressor(n_jobs=-1, random_state=42),\n",
              "                   n_iter=5,\n",
              "                   param_distributions={'max_depth': [None, 3, 5, 10],\n",
              "                                        'max_features': [0.5, 1, 'sqrt',\n",
              "                                                         'auto'],\n",
              "                                        'max_samples': [10000],\n",
              "                                        'min_samples_leaf': array([ 1,  3,  5,  7,  9, 11, 13, 15, 17, 19]),\n",
              "                                        'min_samples_split': array([ 2,  4,  6,  8, 10, 12, 14, 16, 18]),\n",
              "                                        'n_estimators': array([10, 20, 30, 40, 50, 60, 70, 80, 90])},\n",
              "                   verbose=True)"
            ],
            "text/html": [
              "<style>#sk-container-id-2 {color: black;background-color: white;}#sk-container-id-2 pre{padding: 0;}#sk-container-id-2 div.sk-toggleable {background-color: white;}#sk-container-id-2 label.sk-toggleable__label {cursor: pointer;display: block;width: 100%;margin-bottom: 0;padding: 0.3em;box-sizing: border-box;text-align: center;}#sk-container-id-2 label.sk-toggleable__label-arrow:before {content: \"▸\";float: left;margin-right: 0.25em;color: #696969;}#sk-container-id-2 label.sk-toggleable__label-arrow:hover:before {color: black;}#sk-container-id-2 div.sk-estimator:hover label.sk-toggleable__label-arrow:before {color: black;}#sk-container-id-2 div.sk-toggleable__content {max-height: 0;max-width: 0;overflow: hidden;text-align: left;background-color: #f0f8ff;}#sk-container-id-2 div.sk-toggleable__content pre {margin: 0.2em;color: black;border-radius: 0.25em;background-color: #f0f8ff;}#sk-container-id-2 input.sk-toggleable__control:checked~div.sk-toggleable__content {max-height: 200px;max-width: 100%;overflow: auto;}#sk-container-id-2 input.sk-toggleable__control:checked~label.sk-toggleable__label-arrow:before {content: \"▾\";}#sk-container-id-2 div.sk-estimator input.sk-toggleable__control:checked~label.sk-toggleable__label {background-color: #d4ebff;}#sk-container-id-2 div.sk-label input.sk-toggleable__control:checked~label.sk-toggleable__label {background-color: #d4ebff;}#sk-container-id-2 input.sk-hidden--visually {border: 0;clip: rect(1px 1px 1px 1px);clip: rect(1px, 1px, 1px, 1px);height: 1px;margin: -1px;overflow: hidden;padding: 0;position: absolute;width: 1px;}#sk-container-id-2 div.sk-estimator {font-family: monospace;background-color: #f0f8ff;border: 1px dotted black;border-radius: 0.25em;box-sizing: border-box;margin-bottom: 0.5em;}#sk-container-id-2 div.sk-estimator:hover {background-color: #d4ebff;}#sk-container-id-2 div.sk-parallel-item::after {content: \"\";width: 100%;border-bottom: 1px solid gray;flex-grow: 1;}#sk-container-id-2 div.sk-label:hover label.sk-toggleable__label {background-color: #d4ebff;}#sk-container-id-2 div.sk-serial::before {content: \"\";position: absolute;border-left: 1px solid gray;box-sizing: border-box;top: 0;bottom: 0;left: 50%;z-index: 0;}#sk-container-id-2 div.sk-serial {display: flex;flex-direction: column;align-items: center;background-color: white;padding-right: 0.2em;padding-left: 0.2em;position: relative;}#sk-container-id-2 div.sk-item {position: relative;z-index: 1;}#sk-container-id-2 div.sk-parallel {display: flex;align-items: stretch;justify-content: center;background-color: white;position: relative;}#sk-container-id-2 div.sk-item::before, #sk-container-id-2 div.sk-parallel-item::before {content: \"\";position: absolute;border-left: 1px solid gray;box-sizing: border-box;top: 0;bottom: 0;left: 50%;z-index: -1;}#sk-container-id-2 div.sk-parallel-item {display: flex;flex-direction: column;z-index: 1;position: relative;background-color: white;}#sk-container-id-2 div.sk-parallel-item:first-child::after {align-self: flex-end;width: 50%;}#sk-container-id-2 div.sk-parallel-item:last-child::after {align-self: flex-start;width: 50%;}#sk-container-id-2 div.sk-parallel-item:only-child::after {width: 0;}#sk-container-id-2 div.sk-dashed-wrapped {border: 1px dashed gray;margin: 0 0.4em 0.5em 0.4em;box-sizing: border-box;padding-bottom: 0.4em;background-color: white;}#sk-container-id-2 div.sk-label label {font-family: monospace;font-weight: bold;display: inline-block;line-height: 1.2em;}#sk-container-id-2 div.sk-label-container {text-align: center;}#sk-container-id-2 div.sk-container {/* jupyter's `normalize.less` sets `[hidden] { display: none; }` but bootstrap.min.css set `[hidden] { display: none !important; }` so we also need the `!important` here to be able to override the default hidden behavior on the sphinx rendered scikit-learn.org. See: https://github.com/scikit-learn/scikit-learn/issues/21755 */display: inline-block !important;position: relative;}#sk-container-id-2 div.sk-text-repr-fallback {display: none;}</style><div id=\"sk-container-id-2\" class=\"sk-top-container\"><div class=\"sk-text-repr-fallback\"><pre>RandomizedSearchCV(cv=5,\n",
              "                   estimator=RandomForestRegressor(n_jobs=-1, random_state=42),\n",
              "                   n_iter=5,\n",
              "                   param_distributions={&#x27;max_depth&#x27;: [None, 3, 5, 10],\n",
              "                                        &#x27;max_features&#x27;: [0.5, 1, &#x27;sqrt&#x27;,\n",
              "                                                         &#x27;auto&#x27;],\n",
              "                                        &#x27;max_samples&#x27;: [10000],\n",
              "                                        &#x27;min_samples_leaf&#x27;: array([ 1,  3,  5,  7,  9, 11, 13, 15, 17, 19]),\n",
              "                                        &#x27;min_samples_split&#x27;: array([ 2,  4,  6,  8, 10, 12, 14, 16, 18]),\n",
              "                                        &#x27;n_estimators&#x27;: array([10, 20, 30, 40, 50, 60, 70, 80, 90])},\n",
              "                   verbose=True)</pre><b>In a Jupyter environment, please rerun this cell to show the HTML representation or trust the notebook. <br />On GitHub, the HTML representation is unable to render, please try loading this page with nbviewer.org.</b></div><div class=\"sk-container\" hidden><div class=\"sk-item sk-dashed-wrapped\"><div class=\"sk-label-container\"><div class=\"sk-label sk-toggleable\"><input class=\"sk-toggleable__control sk-hidden--visually\" id=\"sk-estimator-id-2\" type=\"checkbox\" ><label for=\"sk-estimator-id-2\" class=\"sk-toggleable__label sk-toggleable__label-arrow\">RandomizedSearchCV</label><div class=\"sk-toggleable__content\"><pre>RandomizedSearchCV(cv=5,\n",
              "                   estimator=RandomForestRegressor(n_jobs=-1, random_state=42),\n",
              "                   n_iter=5,\n",
              "                   param_distributions={&#x27;max_depth&#x27;: [None, 3, 5, 10],\n",
              "                                        &#x27;max_features&#x27;: [0.5, 1, &#x27;sqrt&#x27;,\n",
              "                                                         &#x27;auto&#x27;],\n",
              "                                        &#x27;max_samples&#x27;: [10000],\n",
              "                                        &#x27;min_samples_leaf&#x27;: array([ 1,  3,  5,  7,  9, 11, 13, 15, 17, 19]),\n",
              "                                        &#x27;min_samples_split&#x27;: array([ 2,  4,  6,  8, 10, 12, 14, 16, 18]),\n",
              "                                        &#x27;n_estimators&#x27;: array([10, 20, 30, 40, 50, 60, 70, 80, 90])},\n",
              "                   verbose=True)</pre></div></div></div><div class=\"sk-parallel\"><div class=\"sk-parallel-item\"><div class=\"sk-item\"><div class=\"sk-label-container\"><div class=\"sk-label sk-toggleable\"><input class=\"sk-toggleable__control sk-hidden--visually\" id=\"sk-estimator-id-3\" type=\"checkbox\" ><label for=\"sk-estimator-id-3\" class=\"sk-toggleable__label sk-toggleable__label-arrow\">estimator: RandomForestRegressor</label><div class=\"sk-toggleable__content\"><pre>RandomForestRegressor(n_jobs=-1, random_state=42)</pre></div></div></div><div class=\"sk-serial\"><div class=\"sk-item\"><div class=\"sk-estimator sk-toggleable\"><input class=\"sk-toggleable__control sk-hidden--visually\" id=\"sk-estimator-id-4\" type=\"checkbox\" ><label for=\"sk-estimator-id-4\" class=\"sk-toggleable__label sk-toggleable__label-arrow\">RandomForestRegressor</label><div class=\"sk-toggleable__content\"><pre>RandomForestRegressor(n_jobs=-1, random_state=42)</pre></div></div></div></div></div></div></div></div></div></div>"
            ]
          },
          "metadata": {},
          "execution_count": 78
        }
      ]
    },
    {
      "cell_type": "code",
      "source": [
        "# Find the best model hyperparameters\n",
        "rs_model.best_params_"
      ],
      "metadata": {
        "colab": {
          "base_uri": "https://localhost:8080/"
        },
        "id": "Iu_XlsiMsmeI",
        "outputId": "4345e731-634c-4cdd-8c25-1c974b55cf59"
      },
      "execution_count": null,
      "outputs": [
        {
          "output_type": "execute_result",
          "data": {
            "text/plain": [
              "{'n_estimators': 70,\n",
              " 'min_samples_split': 6,\n",
              " 'min_samples_leaf': 11,\n",
              " 'max_samples': 10000,\n",
              " 'max_features': 'auto',\n",
              " 'max_depth': None}"
            ]
          },
          "metadata": {},
          "execution_count": 79
        }
      ]
    },
    {
      "cell_type": "code",
      "source": [
        "# Evaluate the RandomizedSearchCV\n",
        "show_scores(rs_model)"
      ],
      "metadata": {
        "colab": {
          "base_uri": "https://localhost:8080/"
        },
        "id": "jsOFrAyOuWmc",
        "outputId": "a710ce25-9723-4c0e-b0c7-b1801fda2344"
      },
      "execution_count": null,
      "outputs": [
        {
          "output_type": "execute_result",
          "data": {
            "text/plain": [
              "{'Training MAE': 6184.573624945175,\n",
              " 'Valid MAE': 7760.117002396658,\n",
              " 'Training RMSLE': 0.28004112521750657,\n",
              " 'Valid RMSLE': 0.309833165446084,\n",
              " 'Training R^2': 0.8261418391576748,\n",
              " 'Valid R^2': 0.7956870624650766}"
            ]
          },
          "metadata": {},
          "execution_count": 80
        }
      ]
    },
    {
      "cell_type": "markdown",
      "source": [
        "### Try to find the best max_samples\n"
      ],
      "metadata": {
        "id": "OHVw5L-p-R2y"
      }
    },
    {
      "cell_type": "code",
      "source": [
        "\n",
        "# the list of max_samples_list\n",
        "max_samples_list = [0.04, 0.05, 0.1, 0.2, 0.3]\n",
        "\n",
        "# Instatiate RandomForestRegressor model\n",
        "rf = RandomForestRegressor(n_estimators=100, max_depth=10)\n",
        "\n",
        "# Using cross-validate to valuate performance of max_samples\n",
        "scores = []\n",
        "for max_samples in max_samples_list:\n",
        "    rf.max_samples = max_samples\n",
        "    cv_score = np.mean(cross_val_score(rf, \n",
        "                                       X_train, \n",
        "                                       y_train, \n",
        "                                       cv=5, \n",
        "                                       scoring='neg_mean_squared_error'))\n",
        "    scores.append(-cv_score)\n",
        "\n",
        "# find the best max_samples with highest score.\n",
        "optimal_idx = np.argmax(scores)\n",
        "optimal_max_samples = max_samples_list[optimal_idx]\n",
        "print('The optimal max_samples:', optimal_max_samples)"
      ],
      "metadata": {
        "colab": {
          "base_uri": "https://localhost:8080/"
        },
        "id": "gHKgRvVY-Rnq",
        "outputId": "2ab86659-42cd-454e-8237-f6a5521aa8ea"
      },
      "execution_count": null,
      "outputs": [
        {
          "output_type": "stream",
          "name": "stdout",
          "text": [
            "Giá trị max_samples tối ưu: 0.3\n"
          ]
        }
      ]
    },
    {
      "cell_type": "code",
      "source": [
        "optimal_max_samples*len(X_train)"
      ],
      "metadata": {
        "colab": {
          "base_uri": "https://localhost:8080/"
        },
        "id": "Ul0tbjZHhQXD",
        "outputId": "5e609e6a-585a-43c7-bbde-4dc031402d0a"
      },
      "execution_count": null,
      "outputs": [
        {
          "output_type": "execute_result",
          "data": {
            "text/plain": [
              "120337.5"
            ]
          },
          "metadata": {},
          "execution_count": 104
        }
      ]
    },
    {
      "cell_type": "markdown",
      "source": [
        "### Try to build model with max_samples = 12k"
      ],
      "metadata": {
        "id": "vKc1avGBg5n7"
      }
    },
    {
      "cell_type": "code",
      "source": [
        "%%time\n",
        "from sklearn.model_selection import RandomizedSearchCV\n",
        "\n",
        "\n",
        "# Different RandomForestRegressor hyperparameters\n",
        "rf_grid={\"n_estimators\": np.arange(10, 100, 10),\n",
        "         \"max_depth\": [None, 3,5,10],\n",
        "         \"min_samples_split\":np.arange(2,20,2),\n",
        "         \"min_samples_leaf\": np.arange(1,20,2),\n",
        "         \"max_features\":[0.5, 1, \"sqrt\",\"auto\"],\n",
        "         \"max_samples\":[optimal_max_samples]}\n",
        "\n",
        "# Instatiate RandomizedSearchCV model\n",
        "rs_model = RandomizedSearchCV(RandomForestRegressor(n_jobs=-1,\n",
        "                                                    random_state=42),\n",
        "                              param_distributions=rf_grid,\n",
        "                              n_iter=5,\n",
        "                              cv=5,\n",
        "                              verbose=True)\n",
        "\n",
        "# Fit the RandomizedSearchCV model\n",
        "rs_model.fit(X_train, y_train)         "
      ],
      "metadata": {
        "colab": {
          "base_uri": "https://localhost:8080/",
          "height": 572
        },
        "id": "7FRTcL8Ow-hN",
        "outputId": "faa11bd5-40a3-4926-bbab-aabea26d0165"
      },
      "execution_count": null,
      "outputs": [
        {
          "output_type": "stream",
          "name": "stdout",
          "text": [
            "Fitting 5 folds for each of 5 candidates, totalling 25 fits\n"
          ]
        },
        {
          "output_type": "stream",
          "name": "stderr",
          "text": [
            "/usr/local/lib/python3.8/dist-packages/sklearn/ensemble/_forest.py:413: FutureWarning: `max_features='auto'` has been deprecated in 1.1 and will be removed in 1.3. To keep the past behaviour, explicitly set `max_features=1.0` or remove this parameter as it is also the default value for RandomForestRegressors and ExtraTreesRegressors.\n",
            "  warn(\n",
            "/usr/local/lib/python3.8/dist-packages/sklearn/ensemble/_forest.py:413: FutureWarning: `max_features='auto'` has been deprecated in 1.1 and will be removed in 1.3. To keep the past behaviour, explicitly set `max_features=1.0` or remove this parameter as it is also the default value for RandomForestRegressors and ExtraTreesRegressors.\n",
            "  warn(\n",
            "/usr/local/lib/python3.8/dist-packages/sklearn/ensemble/_forest.py:413: FutureWarning: `max_features='auto'` has been deprecated in 1.1 and will be removed in 1.3. To keep the past behaviour, explicitly set `max_features=1.0` or remove this parameter as it is also the default value for RandomForestRegressors and ExtraTreesRegressors.\n",
            "  warn(\n",
            "/usr/local/lib/python3.8/dist-packages/sklearn/ensemble/_forest.py:413: FutureWarning: `max_features='auto'` has been deprecated in 1.1 and will be removed in 1.3. To keep the past behaviour, explicitly set `max_features=1.0` or remove this parameter as it is also the default value for RandomForestRegressors and ExtraTreesRegressors.\n",
            "  warn(\n",
            "/usr/local/lib/python3.8/dist-packages/sklearn/ensemble/_forest.py:413: FutureWarning: `max_features='auto'` has been deprecated in 1.1 and will be removed in 1.3. To keep the past behaviour, explicitly set `max_features=1.0` or remove this parameter as it is also the default value for RandomForestRegressors and ExtraTreesRegressors.\n",
            "  warn(\n",
            "/usr/local/lib/python3.8/dist-packages/sklearn/ensemble/_forest.py:413: FutureWarning: `max_features='auto'` has been deprecated in 1.1 and will be removed in 1.3. To keep the past behaviour, explicitly set `max_features=1.0` or remove this parameter as it is also the default value for RandomForestRegressors and ExtraTreesRegressors.\n",
            "  warn(\n",
            "/usr/local/lib/python3.8/dist-packages/sklearn/ensemble/_forest.py:413: FutureWarning: `max_features='auto'` has been deprecated in 1.1 and will be removed in 1.3. To keep the past behaviour, explicitly set `max_features=1.0` or remove this parameter as it is also the default value for RandomForestRegressors and ExtraTreesRegressors.\n",
            "  warn(\n",
            "/usr/local/lib/python3.8/dist-packages/sklearn/ensemble/_forest.py:413: FutureWarning: `max_features='auto'` has been deprecated in 1.1 and will be removed in 1.3. To keep the past behaviour, explicitly set `max_features=1.0` or remove this parameter as it is also the default value for RandomForestRegressors and ExtraTreesRegressors.\n",
            "  warn(\n",
            "/usr/local/lib/python3.8/dist-packages/sklearn/ensemble/_forest.py:413: FutureWarning: `max_features='auto'` has been deprecated in 1.1 and will be removed in 1.3. To keep the past behaviour, explicitly set `max_features=1.0` or remove this parameter as it is also the default value for RandomForestRegressors and ExtraTreesRegressors.\n",
            "  warn(\n",
            "/usr/local/lib/python3.8/dist-packages/sklearn/ensemble/_forest.py:413: FutureWarning: `max_features='auto'` has been deprecated in 1.1 and will be removed in 1.3. To keep the past behaviour, explicitly set `max_features=1.0` or remove this parameter as it is also the default value for RandomForestRegressors and ExtraTreesRegressors.\n",
            "  warn(\n",
            "/usr/local/lib/python3.8/dist-packages/sklearn/ensemble/_forest.py:413: FutureWarning: `max_features='auto'` has been deprecated in 1.1 and will be removed in 1.3. To keep the past behaviour, explicitly set `max_features=1.0` or remove this parameter as it is also the default value for RandomForestRegressors and ExtraTreesRegressors.\n",
            "  warn(\n"
          ]
        },
        {
          "output_type": "stream",
          "name": "stdout",
          "text": [
            "CPU times: user 1min 54s, sys: 5.75 s, total: 2min\n",
            "Wall time: 11min 45s\n"
          ]
        },
        {
          "output_type": "execute_result",
          "data": {
            "text/plain": [
              "RandomizedSearchCV(cv=5,\n",
              "                   estimator=RandomForestRegressor(n_jobs=-1, random_state=42),\n",
              "                   n_iter=5,\n",
              "                   param_distributions={'max_depth': [None, 3, 5, 10],\n",
              "                                        'max_features': [0.5, 1, 'sqrt',\n",
              "                                                         'auto'],\n",
              "                                        'max_samples': [0.3],\n",
              "                                        'min_samples_leaf': array([ 1,  3,  5,  7,  9, 11, 13, 15, 17, 19]),\n",
              "                                        'min_samples_split': array([ 2,  4,  6,  8, 10, 12, 14, 16, 18]),\n",
              "                                        'n_estimators': array([10, 20, 30, 40, 50, 60, 70, 80, 90])},\n",
              "                   verbose=True)"
            ],
            "text/html": [
              "<style>#sk-container-id-3 {color: black;background-color: white;}#sk-container-id-3 pre{padding: 0;}#sk-container-id-3 div.sk-toggleable {background-color: white;}#sk-container-id-3 label.sk-toggleable__label {cursor: pointer;display: block;width: 100%;margin-bottom: 0;padding: 0.3em;box-sizing: border-box;text-align: center;}#sk-container-id-3 label.sk-toggleable__label-arrow:before {content: \"▸\";float: left;margin-right: 0.25em;color: #696969;}#sk-container-id-3 label.sk-toggleable__label-arrow:hover:before {color: black;}#sk-container-id-3 div.sk-estimator:hover label.sk-toggleable__label-arrow:before {color: black;}#sk-container-id-3 div.sk-toggleable__content {max-height: 0;max-width: 0;overflow: hidden;text-align: left;background-color: #f0f8ff;}#sk-container-id-3 div.sk-toggleable__content pre {margin: 0.2em;color: black;border-radius: 0.25em;background-color: #f0f8ff;}#sk-container-id-3 input.sk-toggleable__control:checked~div.sk-toggleable__content {max-height: 200px;max-width: 100%;overflow: auto;}#sk-container-id-3 input.sk-toggleable__control:checked~label.sk-toggleable__label-arrow:before {content: \"▾\";}#sk-container-id-3 div.sk-estimator input.sk-toggleable__control:checked~label.sk-toggleable__label {background-color: #d4ebff;}#sk-container-id-3 div.sk-label input.sk-toggleable__control:checked~label.sk-toggleable__label {background-color: #d4ebff;}#sk-container-id-3 input.sk-hidden--visually {border: 0;clip: rect(1px 1px 1px 1px);clip: rect(1px, 1px, 1px, 1px);height: 1px;margin: -1px;overflow: hidden;padding: 0;position: absolute;width: 1px;}#sk-container-id-3 div.sk-estimator {font-family: monospace;background-color: #f0f8ff;border: 1px dotted black;border-radius: 0.25em;box-sizing: border-box;margin-bottom: 0.5em;}#sk-container-id-3 div.sk-estimator:hover {background-color: #d4ebff;}#sk-container-id-3 div.sk-parallel-item::after {content: \"\";width: 100%;border-bottom: 1px solid gray;flex-grow: 1;}#sk-container-id-3 div.sk-label:hover label.sk-toggleable__label {background-color: #d4ebff;}#sk-container-id-3 div.sk-serial::before {content: \"\";position: absolute;border-left: 1px solid gray;box-sizing: border-box;top: 0;bottom: 0;left: 50%;z-index: 0;}#sk-container-id-3 div.sk-serial {display: flex;flex-direction: column;align-items: center;background-color: white;padding-right: 0.2em;padding-left: 0.2em;position: relative;}#sk-container-id-3 div.sk-item {position: relative;z-index: 1;}#sk-container-id-3 div.sk-parallel {display: flex;align-items: stretch;justify-content: center;background-color: white;position: relative;}#sk-container-id-3 div.sk-item::before, #sk-container-id-3 div.sk-parallel-item::before {content: \"\";position: absolute;border-left: 1px solid gray;box-sizing: border-box;top: 0;bottom: 0;left: 50%;z-index: -1;}#sk-container-id-3 div.sk-parallel-item {display: flex;flex-direction: column;z-index: 1;position: relative;background-color: white;}#sk-container-id-3 div.sk-parallel-item:first-child::after {align-self: flex-end;width: 50%;}#sk-container-id-3 div.sk-parallel-item:last-child::after {align-self: flex-start;width: 50%;}#sk-container-id-3 div.sk-parallel-item:only-child::after {width: 0;}#sk-container-id-3 div.sk-dashed-wrapped {border: 1px dashed gray;margin: 0 0.4em 0.5em 0.4em;box-sizing: border-box;padding-bottom: 0.4em;background-color: white;}#sk-container-id-3 div.sk-label label {font-family: monospace;font-weight: bold;display: inline-block;line-height: 1.2em;}#sk-container-id-3 div.sk-label-container {text-align: center;}#sk-container-id-3 div.sk-container {/* jupyter's `normalize.less` sets `[hidden] { display: none; }` but bootstrap.min.css set `[hidden] { display: none !important; }` so we also need the `!important` here to be able to override the default hidden behavior on the sphinx rendered scikit-learn.org. See: https://github.com/scikit-learn/scikit-learn/issues/21755 */display: inline-block !important;position: relative;}#sk-container-id-3 div.sk-text-repr-fallback {display: none;}</style><div id=\"sk-container-id-3\" class=\"sk-top-container\"><div class=\"sk-text-repr-fallback\"><pre>RandomizedSearchCV(cv=5,\n",
              "                   estimator=RandomForestRegressor(n_jobs=-1, random_state=42),\n",
              "                   n_iter=5,\n",
              "                   param_distributions={&#x27;max_depth&#x27;: [None, 3, 5, 10],\n",
              "                                        &#x27;max_features&#x27;: [0.5, 1, &#x27;sqrt&#x27;,\n",
              "                                                         &#x27;auto&#x27;],\n",
              "                                        &#x27;max_samples&#x27;: [0.3],\n",
              "                                        &#x27;min_samples_leaf&#x27;: array([ 1,  3,  5,  7,  9, 11, 13, 15, 17, 19]),\n",
              "                                        &#x27;min_samples_split&#x27;: array([ 2,  4,  6,  8, 10, 12, 14, 16, 18]),\n",
              "                                        &#x27;n_estimators&#x27;: array([10, 20, 30, 40, 50, 60, 70, 80, 90])},\n",
              "                   verbose=True)</pre><b>In a Jupyter environment, please rerun this cell to show the HTML representation or trust the notebook. <br />On GitHub, the HTML representation is unable to render, please try loading this page with nbviewer.org.</b></div><div class=\"sk-container\" hidden><div class=\"sk-item sk-dashed-wrapped\"><div class=\"sk-label-container\"><div class=\"sk-label sk-toggleable\"><input class=\"sk-toggleable__control sk-hidden--visually\" id=\"sk-estimator-id-5\" type=\"checkbox\" ><label for=\"sk-estimator-id-5\" class=\"sk-toggleable__label sk-toggleable__label-arrow\">RandomizedSearchCV</label><div class=\"sk-toggleable__content\"><pre>RandomizedSearchCV(cv=5,\n",
              "                   estimator=RandomForestRegressor(n_jobs=-1, random_state=42),\n",
              "                   n_iter=5,\n",
              "                   param_distributions={&#x27;max_depth&#x27;: [None, 3, 5, 10],\n",
              "                                        &#x27;max_features&#x27;: [0.5, 1, &#x27;sqrt&#x27;,\n",
              "                                                         &#x27;auto&#x27;],\n",
              "                                        &#x27;max_samples&#x27;: [0.3],\n",
              "                                        &#x27;min_samples_leaf&#x27;: array([ 1,  3,  5,  7,  9, 11, 13, 15, 17, 19]),\n",
              "                                        &#x27;min_samples_split&#x27;: array([ 2,  4,  6,  8, 10, 12, 14, 16, 18]),\n",
              "                                        &#x27;n_estimators&#x27;: array([10, 20, 30, 40, 50, 60, 70, 80, 90])},\n",
              "                   verbose=True)</pre></div></div></div><div class=\"sk-parallel\"><div class=\"sk-parallel-item\"><div class=\"sk-item\"><div class=\"sk-label-container\"><div class=\"sk-label sk-toggleable\"><input class=\"sk-toggleable__control sk-hidden--visually\" id=\"sk-estimator-id-6\" type=\"checkbox\" ><label for=\"sk-estimator-id-6\" class=\"sk-toggleable__label sk-toggleable__label-arrow\">estimator: RandomForestRegressor</label><div class=\"sk-toggleable__content\"><pre>RandomForestRegressor(n_jobs=-1, random_state=42)</pre></div></div></div><div class=\"sk-serial\"><div class=\"sk-item\"><div class=\"sk-estimator sk-toggleable\"><input class=\"sk-toggleable__control sk-hidden--visually\" id=\"sk-estimator-id-7\" type=\"checkbox\" ><label for=\"sk-estimator-id-7\" class=\"sk-toggleable__label sk-toggleable__label-arrow\">RandomForestRegressor</label><div class=\"sk-toggleable__content\"><pre>RandomForestRegressor(n_jobs=-1, random_state=42)</pre></div></div></div></div></div></div></div></div></div></div>"
            ]
          },
          "metadata": {},
          "execution_count": 103
        }
      ]
    },
    {
      "cell_type": "code",
      "source": [
        "rs_model.best_params_"
      ],
      "metadata": {
        "colab": {
          "base_uri": "https://localhost:8080/"
        },
        "id": "5718eAI5j5jk",
        "outputId": "d6eb8864-d179-452f-9c6d-f07350cc4bea"
      },
      "execution_count": null,
      "outputs": [
        {
          "output_type": "execute_result",
          "data": {
            "text/plain": [
              "{'n_estimators': 30,\n",
              " 'min_samples_split': 16,\n",
              " 'min_samples_leaf': 17,\n",
              " 'max_samples': 0.3,\n",
              " 'max_features': 'auto',\n",
              " 'max_depth': 10}"
            ]
          },
          "metadata": {},
          "execution_count": 106
        }
      ]
    },
    {
      "cell_type": "code",
      "source": [
        "# Evaluate on rs_model (only trained on ~12,000 examples)\n",
        "show_scores(rs_model)"
      ],
      "metadata": {
        "colab": {
          "base_uri": "https://localhost:8080/"
        },
        "id": "F7iVHXODkEzy",
        "outputId": "f2531893-eceb-4dea-a9a2-53904da7dadd"
      },
      "execution_count": null,
      "outputs": [
        {
          "output_type": "execute_result",
          "data": {
            "text/plain": [
              "{'Training MAE': 6467.180167858985,\n",
              " 'Valid MAE': 7722.750821376715,\n",
              " 'Training RMSLE': 0.2915820462456334,\n",
              " 'Valid RMSLE': 0.31131576716352105,\n",
              " 'Training R^2': 0.818613065463057,\n",
              " 'Valid R^2': 0.8000523054784309}"
            ]
          },
          "metadata": {},
          "execution_count": 107
        }
      ]
    },
    {
      "cell_type": "markdown",
      "source": [
        "### Train a model with the best hyperparameters\n",
        "\n",
        "**Note:** These were found after 100 iterations of `RandomForestSearchCV`"
      ],
      "metadata": {
        "id": "vz9iL3G4h5ri"
      }
    },
    {
      "cell_type": "code",
      "source": [
        "%%time\n",
        "\n",
        "#Most ideal Hyperarameters ~400K samples\n",
        "ideal_model =  RandomForestRegressor(n_estimators=40,\n",
        "                                   min_samples_leaf=1,\n",
        "                                   min_samples_split=14,\n",
        "                                   max_features=0.5,\n",
        "                                   n_jobs=-1,\n",
        "                                   max_samples=None,\n",
        "                                   random_state=42)\n",
        "# Fit the ideal model\n",
        "ideal_model.fit(X_train, y_train)\n"
      ],
      "metadata": {
        "colab": {
          "base_uri": "https://localhost:8080/",
          "height": 127
        },
        "id": "jVLbUDWKh427",
        "outputId": "a3ba6db6-ec8b-4b1f-f051-a05f191004ab"
      },
      "execution_count": null,
      "outputs": [
        {
          "output_type": "stream",
          "name": "stdout",
          "text": [
            "CPU times: user 3min 41s, sys: 533 ms, total: 3min 41s\n",
            "Wall time: 2min 17s\n"
          ]
        },
        {
          "output_type": "execute_result",
          "data": {
            "text/plain": [
              "RandomForestRegressor(max_features=0.5, min_samples_split=14, n_estimators=40,\n",
              "                      n_jobs=-1, random_state=42)"
            ],
            "text/html": [
              "<style>#sk-container-id-4 {color: black;background-color: white;}#sk-container-id-4 pre{padding: 0;}#sk-container-id-4 div.sk-toggleable {background-color: white;}#sk-container-id-4 label.sk-toggleable__label {cursor: pointer;display: block;width: 100%;margin-bottom: 0;padding: 0.3em;box-sizing: border-box;text-align: center;}#sk-container-id-4 label.sk-toggleable__label-arrow:before {content: \"▸\";float: left;margin-right: 0.25em;color: #696969;}#sk-container-id-4 label.sk-toggleable__label-arrow:hover:before {color: black;}#sk-container-id-4 div.sk-estimator:hover label.sk-toggleable__label-arrow:before {color: black;}#sk-container-id-4 div.sk-toggleable__content {max-height: 0;max-width: 0;overflow: hidden;text-align: left;background-color: #f0f8ff;}#sk-container-id-4 div.sk-toggleable__content pre {margin: 0.2em;color: black;border-radius: 0.25em;background-color: #f0f8ff;}#sk-container-id-4 input.sk-toggleable__control:checked~div.sk-toggleable__content {max-height: 200px;max-width: 100%;overflow: auto;}#sk-container-id-4 input.sk-toggleable__control:checked~label.sk-toggleable__label-arrow:before {content: \"▾\";}#sk-container-id-4 div.sk-estimator input.sk-toggleable__control:checked~label.sk-toggleable__label {background-color: #d4ebff;}#sk-container-id-4 div.sk-label input.sk-toggleable__control:checked~label.sk-toggleable__label {background-color: #d4ebff;}#sk-container-id-4 input.sk-hidden--visually {border: 0;clip: rect(1px 1px 1px 1px);clip: rect(1px, 1px, 1px, 1px);height: 1px;margin: -1px;overflow: hidden;padding: 0;position: absolute;width: 1px;}#sk-container-id-4 div.sk-estimator {font-family: monospace;background-color: #f0f8ff;border: 1px dotted black;border-radius: 0.25em;box-sizing: border-box;margin-bottom: 0.5em;}#sk-container-id-4 div.sk-estimator:hover {background-color: #d4ebff;}#sk-container-id-4 div.sk-parallel-item::after {content: \"\";width: 100%;border-bottom: 1px solid gray;flex-grow: 1;}#sk-container-id-4 div.sk-label:hover label.sk-toggleable__label {background-color: #d4ebff;}#sk-container-id-4 div.sk-serial::before {content: \"\";position: absolute;border-left: 1px solid gray;box-sizing: border-box;top: 0;bottom: 0;left: 50%;z-index: 0;}#sk-container-id-4 div.sk-serial {display: flex;flex-direction: column;align-items: center;background-color: white;padding-right: 0.2em;padding-left: 0.2em;position: relative;}#sk-container-id-4 div.sk-item {position: relative;z-index: 1;}#sk-container-id-4 div.sk-parallel {display: flex;align-items: stretch;justify-content: center;background-color: white;position: relative;}#sk-container-id-4 div.sk-item::before, #sk-container-id-4 div.sk-parallel-item::before {content: \"\";position: absolute;border-left: 1px solid gray;box-sizing: border-box;top: 0;bottom: 0;left: 50%;z-index: -1;}#sk-container-id-4 div.sk-parallel-item {display: flex;flex-direction: column;z-index: 1;position: relative;background-color: white;}#sk-container-id-4 div.sk-parallel-item:first-child::after {align-self: flex-end;width: 50%;}#sk-container-id-4 div.sk-parallel-item:last-child::after {align-self: flex-start;width: 50%;}#sk-container-id-4 div.sk-parallel-item:only-child::after {width: 0;}#sk-container-id-4 div.sk-dashed-wrapped {border: 1px dashed gray;margin: 0 0.4em 0.5em 0.4em;box-sizing: border-box;padding-bottom: 0.4em;background-color: white;}#sk-container-id-4 div.sk-label label {font-family: monospace;font-weight: bold;display: inline-block;line-height: 1.2em;}#sk-container-id-4 div.sk-label-container {text-align: center;}#sk-container-id-4 div.sk-container {/* jupyter's `normalize.less` sets `[hidden] { display: none; }` but bootstrap.min.css set `[hidden] { display: none !important; }` so we also need the `!important` here to be able to override the default hidden behavior on the sphinx rendered scikit-learn.org. See: https://github.com/scikit-learn/scikit-learn/issues/21755 */display: inline-block !important;position: relative;}#sk-container-id-4 div.sk-text-repr-fallback {display: none;}</style><div id=\"sk-container-id-4\" class=\"sk-top-container\"><div class=\"sk-text-repr-fallback\"><pre>RandomForestRegressor(max_features=0.5, min_samples_split=14, n_estimators=40,\n",
              "                      n_jobs=-1, random_state=42)</pre><b>In a Jupyter environment, please rerun this cell to show the HTML representation or trust the notebook. <br />On GitHub, the HTML representation is unable to render, please try loading this page with nbviewer.org.</b></div><div class=\"sk-container\" hidden><div class=\"sk-item\"><div class=\"sk-estimator sk-toggleable\"><input class=\"sk-toggleable__control sk-hidden--visually\" id=\"sk-estimator-id-8\" type=\"checkbox\" checked><label for=\"sk-estimator-id-8\" class=\"sk-toggleable__label sk-toggleable__label-arrow\">RandomForestRegressor</label><div class=\"sk-toggleable__content\"><pre>RandomForestRegressor(max_features=0.5, min_samples_split=14, n_estimators=40,\n",
              "                      n_jobs=-1, random_state=42)</pre></div></div></div></div></div>"
            ]
          },
          "metadata": {},
          "execution_count": 111
        }
      ]
    },
    {
      "cell_type": "code",
      "source": [
        "# Save ideal_model\n",
        "import pickle\n",
        "pickle.dump(ideal_model, open(\"/content/drive/MyDrive/ml-course/data/bulldozers/ideal_model.pkl\",\"wb\"))"
      ],
      "metadata": {
        "id": "ryenk8mxr1cF"
      },
      "execution_count": null,
      "outputs": []
    },
    {
      "cell_type": "markdown",
      "source": [
        "## Load a save model"
      ],
      "metadata": {
        "id": "13jz5fmHsSI5"
      }
    },
    {
      "cell_type": "code",
      "source": [
        "#Load a saved model\n",
        "loaded_model = pickle.load(open(\"/content/drive/MyDrive/ml-course/data/bulldozers/ideal_model.pkl\",\"rb\"))"
      ],
      "metadata": {
        "id": "yCHIqnAGsQNP"
      },
      "execution_count": null,
      "outputs": []
    },
    {
      "cell_type": "code",
      "source": [
        "# column feature name\n",
        "cols_model_builds = loaded_model.\n",
        "cols_model_builds"
      ],
      "metadata": {
        "colab": {
          "base_uri": "https://localhost:8080/",
          "height": 200
        },
        "id": "CMruSUKWshnc",
        "outputId": "f9cb6cf9-c891-4f53-8aa6-85bebc02a1de"
      },
      "execution_count": null,
      "outputs": [
        {
          "output_type": "error",
          "ename": "AttributeError",
          "evalue": "ignored",
          "traceback": [
            "\u001b[0;31m---------------------------------------------------------------------------\u001b[0m",
            "\u001b[0;31mAttributeError\u001b[0m                            Traceback (most recent call last)",
            "\u001b[0;32m<ipython-input-135-2ec208a9896f>\u001b[0m in \u001b[0;36m<module>\u001b[0;34m\u001b[0m\n\u001b[1;32m      1\u001b[0m \u001b[0;31m# column feature name\u001b[0m\u001b[0;34m\u001b[0m\u001b[0;34m\u001b[0m\u001b[0;34m\u001b[0m\u001b[0m\n\u001b[0;32m----> 2\u001b[0;31m \u001b[0mcols_model_builds\u001b[0m \u001b[0;34m=\u001b[0m \u001b[0mloaded_model\u001b[0m\u001b[0;34m.\u001b[0m\u001b[0mfeature_names\u001b[0m\u001b[0;34m\u001b[0m\u001b[0;34m\u001b[0m\u001b[0m\n\u001b[0m\u001b[1;32m      3\u001b[0m \u001b[0mcols_model_builds\u001b[0m\u001b[0;34m\u001b[0m\u001b[0;34m\u001b[0m\u001b[0m\n",
            "\u001b[0;31mAttributeError\u001b[0m: 'RandomForestRegressor' object has no attribute 'feature_names'"
          ]
        }
      ]
    },
    {
      "cell_type": "code",
      "source": [
        "# Score for ideal model (trained on all the data)\n",
        "show_scores(ideal_model)"
      ],
      "metadata": {
        "colab": {
          "base_uri": "https://localhost:8080/"
        },
        "id": "zM6-_RzUjSSk",
        "outputId": "0b7bd19d-e6b2-4627-baae-c5a7dfe29c81"
      },
      "execution_count": null,
      "outputs": [
        {
          "output_type": "execute_result",
          "data": {
            "text/plain": [
              "{'Training MAE': 2953.8161137163484,\n",
              " 'Valid MAE': 5951.247761444453,\n",
              " 'Training RMSLE': 0.14469006962371858,\n",
              " 'Valid RMSLE': 0.24524163989538328,\n",
              " 'Training R^2': 0.9588145522577225,\n",
              " 'Valid R^2': 0.8818019502450094}"
            ]
          },
          "metadata": {},
          "execution_count": 112
        }
      ]
    },
    {
      "cell_type": "code",
      "source": [
        "# Evaluate on rs_model (only trained on ~12,000 examples)\n",
        "show_scores(rs_model)"
      ],
      "metadata": {
        "colab": {
          "base_uri": "https://localhost:8080/"
        },
        "id": "2HgFrpN0jj6f",
        "outputId": "f9bcb057-a0f1-418f-f46f-cd168634e769"
      },
      "execution_count": null,
      "outputs": [
        {
          "output_type": "execute_result",
          "data": {
            "text/plain": [
              "{'Training MAE': 6467.180167858985,\n",
              " 'Valid MAE': 7722.750821376715,\n",
              " 'Training RMSLE': 0.2915820462456334,\n",
              " 'Valid RMSLE': 0.31131576716352105,\n",
              " 'Training R^2': 0.818613065463057,\n",
              " 'Valid R^2': 0.8000523054784309}"
            ]
          },
          "metadata": {},
          "execution_count": 108
        }
      ]
    },
    {
      "cell_type": "markdown",
      "source": [
        "## Make predictions on test data"
      ],
      "metadata": {
        "id": "ONQRCUuplNIs"
      }
    },
    {
      "cell_type": "code",
      "source": [
        "# import test data\n",
        "df_test = pd.read_csv(\"/content/drive/MyDrive/ml-course/data/bulldozers/Test.csv\", \n",
        "                      low_memory=False,\n",
        "                      parse_dates=['saledate'])\n",
        "df_test.head()"
      ],
      "metadata": {
        "colab": {
          "base_uri": "https://localhost:8080/",
          "height": 386
        },
        "id": "cxwpDkNvkW65",
        "outputId": "577b6957-e2b1-462c-8cc7-d9e6697882ef"
      },
      "execution_count": null,
      "outputs": [
        {
          "output_type": "execute_result",
          "data": {
            "text/plain": [
              "   SalesID  MachineID  ModelID  datasource  auctioneerID  YearMade  \\\n",
              "0  1227829    1006309     3168         121             3      1999   \n",
              "1  1227844    1022817     7271         121             3      1000   \n",
              "2  1227847    1031560    22805         121             3      2004   \n",
              "3  1227848      56204     1269         121             3      2006   \n",
              "4  1227863    1053887    22312         121             3      2005   \n",
              "\n",
              "   MachineHoursCurrentMeter UsageBand   saledate fiModelDesc  ...  \\\n",
              "0                    3688.0       Low 2012-05-03        580G  ...   \n",
              "1                   28555.0      High 2012-05-10         936  ...   \n",
              "2                    6038.0    Medium 2012-05-10    EC210BLC  ...   \n",
              "3                    8940.0      High 2012-05-10       330CL  ...   \n",
              "4                    2286.0       Low 2012-05-10        650K  ...   \n",
              "\n",
              "  Undercarriage_Pad_Width         Stick_Length   Thumb      Pattern_Changer  \\\n",
              "0                     NaN                  NaN     NaN                  NaN   \n",
              "1                     NaN                  NaN     NaN                  NaN   \n",
              "2     None or Unspecified                9' 6\"  Manual  None or Unspecified   \n",
              "3     None or Unspecified  None or Unspecified  Manual                  Yes   \n",
              "4                     NaN                  NaN     NaN                  NaN   \n",
              "\n",
              "  Grouser_Type     Backhoe_Mounting Blade_Type      Travel_Controls  \\\n",
              "0          NaN                  NaN        NaN                  NaN   \n",
              "1          NaN                  NaN        NaN                  NaN   \n",
              "2       Double                  NaN        NaN                  NaN   \n",
              "3       Triple                  NaN        NaN                  NaN   \n",
              "4          NaN  None or Unspecified        PAT  None or Unspecified   \n",
              "\n",
              "  Differential_Type Steering_Controls  \n",
              "0               NaN               NaN  \n",
              "1          Standard      Conventional  \n",
              "2               NaN               NaN  \n",
              "3               NaN               NaN  \n",
              "4               NaN               NaN  \n",
              "\n",
              "[5 rows x 52 columns]"
            ],
            "text/html": [
              "\n",
              "  <div id=\"df-3a62c78b-dccf-4546-a85a-3290f94f8917\">\n",
              "    <div class=\"colab-df-container\">\n",
              "      <div>\n",
              "<style scoped>\n",
              "    .dataframe tbody tr th:only-of-type {\n",
              "        vertical-align: middle;\n",
              "    }\n",
              "\n",
              "    .dataframe tbody tr th {\n",
              "        vertical-align: top;\n",
              "    }\n",
              "\n",
              "    .dataframe thead th {\n",
              "        text-align: right;\n",
              "    }\n",
              "</style>\n",
              "<table border=\"1\" class=\"dataframe\">\n",
              "  <thead>\n",
              "    <tr style=\"text-align: right;\">\n",
              "      <th></th>\n",
              "      <th>SalesID</th>\n",
              "      <th>MachineID</th>\n",
              "      <th>ModelID</th>\n",
              "      <th>datasource</th>\n",
              "      <th>auctioneerID</th>\n",
              "      <th>YearMade</th>\n",
              "      <th>MachineHoursCurrentMeter</th>\n",
              "      <th>UsageBand</th>\n",
              "      <th>saledate</th>\n",
              "      <th>fiModelDesc</th>\n",
              "      <th>...</th>\n",
              "      <th>Undercarriage_Pad_Width</th>\n",
              "      <th>Stick_Length</th>\n",
              "      <th>Thumb</th>\n",
              "      <th>Pattern_Changer</th>\n",
              "      <th>Grouser_Type</th>\n",
              "      <th>Backhoe_Mounting</th>\n",
              "      <th>Blade_Type</th>\n",
              "      <th>Travel_Controls</th>\n",
              "      <th>Differential_Type</th>\n",
              "      <th>Steering_Controls</th>\n",
              "    </tr>\n",
              "  </thead>\n",
              "  <tbody>\n",
              "    <tr>\n",
              "      <th>0</th>\n",
              "      <td>1227829</td>\n",
              "      <td>1006309</td>\n",
              "      <td>3168</td>\n",
              "      <td>121</td>\n",
              "      <td>3</td>\n",
              "      <td>1999</td>\n",
              "      <td>3688.0</td>\n",
              "      <td>Low</td>\n",
              "      <td>2012-05-03</td>\n",
              "      <td>580G</td>\n",
              "      <td>...</td>\n",
              "      <td>NaN</td>\n",
              "      <td>NaN</td>\n",
              "      <td>NaN</td>\n",
              "      <td>NaN</td>\n",
              "      <td>NaN</td>\n",
              "      <td>NaN</td>\n",
              "      <td>NaN</td>\n",
              "      <td>NaN</td>\n",
              "      <td>NaN</td>\n",
              "      <td>NaN</td>\n",
              "    </tr>\n",
              "    <tr>\n",
              "      <th>1</th>\n",
              "      <td>1227844</td>\n",
              "      <td>1022817</td>\n",
              "      <td>7271</td>\n",
              "      <td>121</td>\n",
              "      <td>3</td>\n",
              "      <td>1000</td>\n",
              "      <td>28555.0</td>\n",
              "      <td>High</td>\n",
              "      <td>2012-05-10</td>\n",
              "      <td>936</td>\n",
              "      <td>...</td>\n",
              "      <td>NaN</td>\n",
              "      <td>NaN</td>\n",
              "      <td>NaN</td>\n",
              "      <td>NaN</td>\n",
              "      <td>NaN</td>\n",
              "      <td>NaN</td>\n",
              "      <td>NaN</td>\n",
              "      <td>NaN</td>\n",
              "      <td>Standard</td>\n",
              "      <td>Conventional</td>\n",
              "    </tr>\n",
              "    <tr>\n",
              "      <th>2</th>\n",
              "      <td>1227847</td>\n",
              "      <td>1031560</td>\n",
              "      <td>22805</td>\n",
              "      <td>121</td>\n",
              "      <td>3</td>\n",
              "      <td>2004</td>\n",
              "      <td>6038.0</td>\n",
              "      <td>Medium</td>\n",
              "      <td>2012-05-10</td>\n",
              "      <td>EC210BLC</td>\n",
              "      <td>...</td>\n",
              "      <td>None or Unspecified</td>\n",
              "      <td>9' 6\"</td>\n",
              "      <td>Manual</td>\n",
              "      <td>None or Unspecified</td>\n",
              "      <td>Double</td>\n",
              "      <td>NaN</td>\n",
              "      <td>NaN</td>\n",
              "      <td>NaN</td>\n",
              "      <td>NaN</td>\n",
              "      <td>NaN</td>\n",
              "    </tr>\n",
              "    <tr>\n",
              "      <th>3</th>\n",
              "      <td>1227848</td>\n",
              "      <td>56204</td>\n",
              "      <td>1269</td>\n",
              "      <td>121</td>\n",
              "      <td>3</td>\n",
              "      <td>2006</td>\n",
              "      <td>8940.0</td>\n",
              "      <td>High</td>\n",
              "      <td>2012-05-10</td>\n",
              "      <td>330CL</td>\n",
              "      <td>...</td>\n",
              "      <td>None or Unspecified</td>\n",
              "      <td>None or Unspecified</td>\n",
              "      <td>Manual</td>\n",
              "      <td>Yes</td>\n",
              "      <td>Triple</td>\n",
              "      <td>NaN</td>\n",
              "      <td>NaN</td>\n",
              "      <td>NaN</td>\n",
              "      <td>NaN</td>\n",
              "      <td>NaN</td>\n",
              "    </tr>\n",
              "    <tr>\n",
              "      <th>4</th>\n",
              "      <td>1227863</td>\n",
              "      <td>1053887</td>\n",
              "      <td>22312</td>\n",
              "      <td>121</td>\n",
              "      <td>3</td>\n",
              "      <td>2005</td>\n",
              "      <td>2286.0</td>\n",
              "      <td>Low</td>\n",
              "      <td>2012-05-10</td>\n",
              "      <td>650K</td>\n",
              "      <td>...</td>\n",
              "      <td>NaN</td>\n",
              "      <td>NaN</td>\n",
              "      <td>NaN</td>\n",
              "      <td>NaN</td>\n",
              "      <td>NaN</td>\n",
              "      <td>None or Unspecified</td>\n",
              "      <td>PAT</td>\n",
              "      <td>None or Unspecified</td>\n",
              "      <td>NaN</td>\n",
              "      <td>NaN</td>\n",
              "    </tr>\n",
              "  </tbody>\n",
              "</table>\n",
              "<p>5 rows × 52 columns</p>\n",
              "</div>\n",
              "      <button class=\"colab-df-convert\" onclick=\"convertToInteractive('df-3a62c78b-dccf-4546-a85a-3290f94f8917')\"\n",
              "              title=\"Convert this dataframe to an interactive table.\"\n",
              "              style=\"display:none;\">\n",
              "        \n",
              "  <svg xmlns=\"http://www.w3.org/2000/svg\" height=\"24px\"viewBox=\"0 0 24 24\"\n",
              "       width=\"24px\">\n",
              "    <path d=\"M0 0h24v24H0V0z\" fill=\"none\"/>\n",
              "    <path d=\"M18.56 5.44l.94 2.06.94-2.06 2.06-.94-2.06-.94-.94-2.06-.94 2.06-2.06.94zm-11 1L8.5 8.5l.94-2.06 2.06-.94-2.06-.94L8.5 2.5l-.94 2.06-2.06.94zm10 10l.94 2.06.94-2.06 2.06-.94-2.06-.94-.94-2.06-.94 2.06-2.06.94z\"/><path d=\"M17.41 7.96l-1.37-1.37c-.4-.4-.92-.59-1.43-.59-.52 0-1.04.2-1.43.59L10.3 9.45l-7.72 7.72c-.78.78-.78 2.05 0 2.83L4 21.41c.39.39.9.59 1.41.59.51 0 1.02-.2 1.41-.59l7.78-7.78 2.81-2.81c.8-.78.8-2.07 0-2.86zM5.41 20L4 18.59l7.72-7.72 1.47 1.35L5.41 20z\"/>\n",
              "  </svg>\n",
              "      </button>\n",
              "      \n",
              "  <style>\n",
              "    .colab-df-container {\n",
              "      display:flex;\n",
              "      flex-wrap:wrap;\n",
              "      gap: 12px;\n",
              "    }\n",
              "\n",
              "    .colab-df-convert {\n",
              "      background-color: #E8F0FE;\n",
              "      border: none;\n",
              "      border-radius: 50%;\n",
              "      cursor: pointer;\n",
              "      display: none;\n",
              "      fill: #1967D2;\n",
              "      height: 32px;\n",
              "      padding: 0 0 0 0;\n",
              "      width: 32px;\n",
              "    }\n",
              "\n",
              "    .colab-df-convert:hover {\n",
              "      background-color: #E2EBFA;\n",
              "      box-shadow: 0px 1px 2px rgba(60, 64, 67, 0.3), 0px 1px 3px 1px rgba(60, 64, 67, 0.15);\n",
              "      fill: #174EA6;\n",
              "    }\n",
              "\n",
              "    [theme=dark] .colab-df-convert {\n",
              "      background-color: #3B4455;\n",
              "      fill: #D2E3FC;\n",
              "    }\n",
              "\n",
              "    [theme=dark] .colab-df-convert:hover {\n",
              "      background-color: #434B5C;\n",
              "      box-shadow: 0px 1px 3px 1px rgba(0, 0, 0, 0.15);\n",
              "      filter: drop-shadow(0px 1px 2px rgba(0, 0, 0, 0.3));\n",
              "      fill: #FFFFFF;\n",
              "    }\n",
              "  </style>\n",
              "\n",
              "      <script>\n",
              "        const buttonEl =\n",
              "          document.querySelector('#df-3a62c78b-dccf-4546-a85a-3290f94f8917 button.colab-df-convert');\n",
              "        buttonEl.style.display =\n",
              "          google.colab.kernel.accessAllowed ? 'block' : 'none';\n",
              "\n",
              "        async function convertToInteractive(key) {\n",
              "          const element = document.querySelector('#df-3a62c78b-dccf-4546-a85a-3290f94f8917');\n",
              "          const dataTable =\n",
              "            await google.colab.kernel.invokeFunction('convertToInteractive',\n",
              "                                                     [key], {});\n",
              "          if (!dataTable) return;\n",
              "\n",
              "          const docLinkHtml = 'Like what you see? Visit the ' +\n",
              "            '<a target=\"_blank\" href=https://colab.research.google.com/notebooks/data_table.ipynb>data table notebook</a>'\n",
              "            + ' to learn more about interactive tables.';\n",
              "          element.innerHTML = '';\n",
              "          dataTable['output_type'] = 'display_data';\n",
              "          await google.colab.output.renderOutput(dataTable, element);\n",
              "          const docLink = document.createElement('div');\n",
              "          docLink.innerHTML = docLinkHtml;\n",
              "          element.appendChild(docLink);\n",
              "        }\n",
              "      </script>\n",
              "    </div>\n",
              "  </div>\n",
              "  "
            ]
          },
          "metadata": {},
          "execution_count": 124
        }
      ]
    },
    {
      "cell_type": "markdown",
      "source": [
        "### Preprocessing test set (getting the test dataset in the same format as our training dataset)"
      ],
      "metadata": {
        "id": "Ly4rmqf_mExD"
      }
    },
    {
      "cell_type": "code",
      "source": [
        "def preprocess_data(df):\n",
        "  \"\"\"\n",
        "  Performs transformations on df and returns transformed df.\n",
        "  \"\"\"\n",
        "  \n",
        "  df['saleYear'] = df.saledate.dt.year\n",
        "  df['saleMonth'] = df.saledate.dt.month\n",
        "  df['saleDay'] = df.saledate.dt.day\n",
        "  df['saleDayOfWeek'] = df.saledate.dt.dayofweek\n",
        "  df['saleDayOfYear'] = df.saledate.dt.dayofyear\n",
        "\n",
        "  df.drop('saledate', axis = 1, inplace= True)\n",
        "\n",
        "  # Fill numeric rows with median\n",
        "  for label, content in df.items():\n",
        "    if pd.api.types.is_numeric_dtype(content):\n",
        "      if pd.isnull(content).sum():\n",
        "        df[label +\"_is_missing\"] = pd.isnull(content)\n",
        "        # Fill missing numeric values with median\n",
        "        df[label] = content.fillna(content.median())\n",
        "    \n",
        "    # Fill categorical missing data and turn categories into numbers\n",
        "    if not pd.api.types.is_numeric_dtype(content):\n",
        "      df[label + \"_is_missing\"] = pd.isnull(content)\n",
        "      # We add +1 to the category code because pandas encodes missing categories -1\n",
        "      df[label] = pd.Categorical(content).codes + 1\n",
        "\n",
        "  return df"
      ],
      "metadata": {
        "id": "HaikEqptlsUV"
      },
      "execution_count": null,
      "outputs": []
    },
    {
      "cell_type": "code",
      "source": [
        "# Process the test data\n",
        "df_test = preprocess_data(df_test)\n",
        "df_test.head()"
      ],
      "metadata": {
        "colab": {
          "base_uri": "https://localhost:8080/",
          "height": 300
        },
        "id": "gH9-r54xmBoM",
        "outputId": "3941ffc5-efe0-4c61-a6ae-06d11928bbe8"
      },
      "execution_count": null,
      "outputs": [
        {
          "output_type": "execute_result",
          "data": {
            "text/plain": [
              "   SalesID  MachineID  ModelID  datasource  auctioneerID  YearMade  \\\n",
              "0  1227829    1006309     3168         121             3      1999   \n",
              "1  1227844    1022817     7271         121             3      1000   \n",
              "2  1227847    1031560    22805         121             3      2004   \n",
              "3  1227848      56204     1269         121             3      2006   \n",
              "4  1227863    1053887    22312         121             3      2005   \n",
              "\n",
              "   MachineHoursCurrentMeter  UsageBand  fiModelDesc  fiBaseModel  ...  \\\n",
              "0                    3688.0          2          499          180  ...   \n",
              "1                   28555.0          1          831          292  ...   \n",
              "2                    6038.0          3         1177          404  ...   \n",
              "3                    8940.0          1          287          113  ...   \n",
              "4                    2286.0          2          566          196  ...   \n",
              "\n",
              "   Undercarriage_Pad_Width_is_missing  Stick_Length_is_missing  \\\n",
              "0                                True                     True   \n",
              "1                                True                     True   \n",
              "2                               False                    False   \n",
              "3                               False                    False   \n",
              "4                                True                     True   \n",
              "\n",
              "   Thumb_is_missing  Pattern_Changer_is_missing  Grouser_Type_is_missing  \\\n",
              "0              True                        True                     True   \n",
              "1              True                        True                     True   \n",
              "2             False                       False                    False   \n",
              "3             False                       False                    False   \n",
              "4              True                        True                     True   \n",
              "\n",
              "   Backhoe_Mounting_is_missing  Blade_Type_is_missing  \\\n",
              "0                         True                   True   \n",
              "1                         True                   True   \n",
              "2                         True                   True   \n",
              "3                         True                   True   \n",
              "4                        False                  False   \n",
              "\n",
              "   Travel_Controls_is_missing  Differential_Type_is_missing  \\\n",
              "0                        True                          True   \n",
              "1                        True                         False   \n",
              "2                        True                          True   \n",
              "3                        True                          True   \n",
              "4                       False                          True   \n",
              "\n",
              "   Steering_Controls_is_missing  \n",
              "0                          True  \n",
              "1                         False  \n",
              "2                          True  \n",
              "3                          True  \n",
              "4                          True  \n",
              "\n",
              "[5 rows x 101 columns]"
            ],
            "text/html": [
              "\n",
              "  <div id=\"df-262262c4-21a4-4a64-9b2a-94265ae13efd\">\n",
              "    <div class=\"colab-df-container\">\n",
              "      <div>\n",
              "<style scoped>\n",
              "    .dataframe tbody tr th:only-of-type {\n",
              "        vertical-align: middle;\n",
              "    }\n",
              "\n",
              "    .dataframe tbody tr th {\n",
              "        vertical-align: top;\n",
              "    }\n",
              "\n",
              "    .dataframe thead th {\n",
              "        text-align: right;\n",
              "    }\n",
              "</style>\n",
              "<table border=\"1\" class=\"dataframe\">\n",
              "  <thead>\n",
              "    <tr style=\"text-align: right;\">\n",
              "      <th></th>\n",
              "      <th>SalesID</th>\n",
              "      <th>MachineID</th>\n",
              "      <th>ModelID</th>\n",
              "      <th>datasource</th>\n",
              "      <th>auctioneerID</th>\n",
              "      <th>YearMade</th>\n",
              "      <th>MachineHoursCurrentMeter</th>\n",
              "      <th>UsageBand</th>\n",
              "      <th>fiModelDesc</th>\n",
              "      <th>fiBaseModel</th>\n",
              "      <th>...</th>\n",
              "      <th>Undercarriage_Pad_Width_is_missing</th>\n",
              "      <th>Stick_Length_is_missing</th>\n",
              "      <th>Thumb_is_missing</th>\n",
              "      <th>Pattern_Changer_is_missing</th>\n",
              "      <th>Grouser_Type_is_missing</th>\n",
              "      <th>Backhoe_Mounting_is_missing</th>\n",
              "      <th>Blade_Type_is_missing</th>\n",
              "      <th>Travel_Controls_is_missing</th>\n",
              "      <th>Differential_Type_is_missing</th>\n",
              "      <th>Steering_Controls_is_missing</th>\n",
              "    </tr>\n",
              "  </thead>\n",
              "  <tbody>\n",
              "    <tr>\n",
              "      <th>0</th>\n",
              "      <td>1227829</td>\n",
              "      <td>1006309</td>\n",
              "      <td>3168</td>\n",
              "      <td>121</td>\n",
              "      <td>3</td>\n",
              "      <td>1999</td>\n",
              "      <td>3688.0</td>\n",
              "      <td>2</td>\n",
              "      <td>499</td>\n",
              "      <td>180</td>\n",
              "      <td>...</td>\n",
              "      <td>True</td>\n",
              "      <td>True</td>\n",
              "      <td>True</td>\n",
              "      <td>True</td>\n",
              "      <td>True</td>\n",
              "      <td>True</td>\n",
              "      <td>True</td>\n",
              "      <td>True</td>\n",
              "      <td>True</td>\n",
              "      <td>True</td>\n",
              "    </tr>\n",
              "    <tr>\n",
              "      <th>1</th>\n",
              "      <td>1227844</td>\n",
              "      <td>1022817</td>\n",
              "      <td>7271</td>\n",
              "      <td>121</td>\n",
              "      <td>3</td>\n",
              "      <td>1000</td>\n",
              "      <td>28555.0</td>\n",
              "      <td>1</td>\n",
              "      <td>831</td>\n",
              "      <td>292</td>\n",
              "      <td>...</td>\n",
              "      <td>True</td>\n",
              "      <td>True</td>\n",
              "      <td>True</td>\n",
              "      <td>True</td>\n",
              "      <td>True</td>\n",
              "      <td>True</td>\n",
              "      <td>True</td>\n",
              "      <td>True</td>\n",
              "      <td>False</td>\n",
              "      <td>False</td>\n",
              "    </tr>\n",
              "    <tr>\n",
              "      <th>2</th>\n",
              "      <td>1227847</td>\n",
              "      <td>1031560</td>\n",
              "      <td>22805</td>\n",
              "      <td>121</td>\n",
              "      <td>3</td>\n",
              "      <td>2004</td>\n",
              "      <td>6038.0</td>\n",
              "      <td>3</td>\n",
              "      <td>1177</td>\n",
              "      <td>404</td>\n",
              "      <td>...</td>\n",
              "      <td>False</td>\n",
              "      <td>False</td>\n",
              "      <td>False</td>\n",
              "      <td>False</td>\n",
              "      <td>False</td>\n",
              "      <td>True</td>\n",
              "      <td>True</td>\n",
              "      <td>True</td>\n",
              "      <td>True</td>\n",
              "      <td>True</td>\n",
              "    </tr>\n",
              "    <tr>\n",
              "      <th>3</th>\n",
              "      <td>1227848</td>\n",
              "      <td>56204</td>\n",
              "      <td>1269</td>\n",
              "      <td>121</td>\n",
              "      <td>3</td>\n",
              "      <td>2006</td>\n",
              "      <td>8940.0</td>\n",
              "      <td>1</td>\n",
              "      <td>287</td>\n",
              "      <td>113</td>\n",
              "      <td>...</td>\n",
              "      <td>False</td>\n",
              "      <td>False</td>\n",
              "      <td>False</td>\n",
              "      <td>False</td>\n",
              "      <td>False</td>\n",
              "      <td>True</td>\n",
              "      <td>True</td>\n",
              "      <td>True</td>\n",
              "      <td>True</td>\n",
              "      <td>True</td>\n",
              "    </tr>\n",
              "    <tr>\n",
              "      <th>4</th>\n",
              "      <td>1227863</td>\n",
              "      <td>1053887</td>\n",
              "      <td>22312</td>\n",
              "      <td>121</td>\n",
              "      <td>3</td>\n",
              "      <td>2005</td>\n",
              "      <td>2286.0</td>\n",
              "      <td>2</td>\n",
              "      <td>566</td>\n",
              "      <td>196</td>\n",
              "      <td>...</td>\n",
              "      <td>True</td>\n",
              "      <td>True</td>\n",
              "      <td>True</td>\n",
              "      <td>True</td>\n",
              "      <td>True</td>\n",
              "      <td>False</td>\n",
              "      <td>False</td>\n",
              "      <td>False</td>\n",
              "      <td>True</td>\n",
              "      <td>True</td>\n",
              "    </tr>\n",
              "  </tbody>\n",
              "</table>\n",
              "<p>5 rows × 101 columns</p>\n",
              "</div>\n",
              "      <button class=\"colab-df-convert\" onclick=\"convertToInteractive('df-262262c4-21a4-4a64-9b2a-94265ae13efd')\"\n",
              "              title=\"Convert this dataframe to an interactive table.\"\n",
              "              style=\"display:none;\">\n",
              "        \n",
              "  <svg xmlns=\"http://www.w3.org/2000/svg\" height=\"24px\"viewBox=\"0 0 24 24\"\n",
              "       width=\"24px\">\n",
              "    <path d=\"M0 0h24v24H0V0z\" fill=\"none\"/>\n",
              "    <path d=\"M18.56 5.44l.94 2.06.94-2.06 2.06-.94-2.06-.94-.94-2.06-.94 2.06-2.06.94zm-11 1L8.5 8.5l.94-2.06 2.06-.94-2.06-.94L8.5 2.5l-.94 2.06-2.06.94zm10 10l.94 2.06.94-2.06 2.06-.94-2.06-.94-.94-2.06-.94 2.06-2.06.94z\"/><path d=\"M17.41 7.96l-1.37-1.37c-.4-.4-.92-.59-1.43-.59-.52 0-1.04.2-1.43.59L10.3 9.45l-7.72 7.72c-.78.78-.78 2.05 0 2.83L4 21.41c.39.39.9.59 1.41.59.51 0 1.02-.2 1.41-.59l7.78-7.78 2.81-2.81c.8-.78.8-2.07 0-2.86zM5.41 20L4 18.59l7.72-7.72 1.47 1.35L5.41 20z\"/>\n",
              "  </svg>\n",
              "      </button>\n",
              "      \n",
              "  <style>\n",
              "    .colab-df-container {\n",
              "      display:flex;\n",
              "      flex-wrap:wrap;\n",
              "      gap: 12px;\n",
              "    }\n",
              "\n",
              "    .colab-df-convert {\n",
              "      background-color: #E8F0FE;\n",
              "      border: none;\n",
              "      border-radius: 50%;\n",
              "      cursor: pointer;\n",
              "      display: none;\n",
              "      fill: #1967D2;\n",
              "      height: 32px;\n",
              "      padding: 0 0 0 0;\n",
              "      width: 32px;\n",
              "    }\n",
              "\n",
              "    .colab-df-convert:hover {\n",
              "      background-color: #E2EBFA;\n",
              "      box-shadow: 0px 1px 2px rgba(60, 64, 67, 0.3), 0px 1px 3px 1px rgba(60, 64, 67, 0.15);\n",
              "      fill: #174EA6;\n",
              "    }\n",
              "\n",
              "    [theme=dark] .colab-df-convert {\n",
              "      background-color: #3B4455;\n",
              "      fill: #D2E3FC;\n",
              "    }\n",
              "\n",
              "    [theme=dark] .colab-df-convert:hover {\n",
              "      background-color: #434B5C;\n",
              "      box-shadow: 0px 1px 3px 1px rgba(0, 0, 0, 0.15);\n",
              "      filter: drop-shadow(0px 1px 2px rgba(0, 0, 0, 0.3));\n",
              "      fill: #FFFFFF;\n",
              "    }\n",
              "  </style>\n",
              "\n",
              "      <script>\n",
              "        const buttonEl =\n",
              "          document.querySelector('#df-262262c4-21a4-4a64-9b2a-94265ae13efd button.colab-df-convert');\n",
              "        buttonEl.style.display =\n",
              "          google.colab.kernel.accessAllowed ? 'block' : 'none';\n",
              "\n",
              "        async function convertToInteractive(key) {\n",
              "          const element = document.querySelector('#df-262262c4-21a4-4a64-9b2a-94265ae13efd');\n",
              "          const dataTable =\n",
              "            await google.colab.kernel.invokeFunction('convertToInteractive',\n",
              "                                                     [key], {});\n",
              "          if (!dataTable) return;\n",
              "\n",
              "          const docLinkHtml = 'Like what you see? Visit the ' +\n",
              "            '<a target=\"_blank\" href=https://colab.research.google.com/notebooks/data_table.ipynb>data table notebook</a>'\n",
              "            + ' to learn more about interactive tables.';\n",
              "          element.innerHTML = '';\n",
              "          dataTable['output_type'] = 'display_data';\n",
              "          await google.colab.output.renderOutput(dataTable, element);\n",
              "          const docLink = document.createElement('div');\n",
              "          docLink.innerHTML = docLinkHtml;\n",
              "          element.appendChild(docLink);\n",
              "        }\n",
              "      </script>\n",
              "    </div>\n",
              "  </div>\n",
              "  "
            ]
          },
          "metadata": {},
          "execution_count": 126
        }
      ]
    },
    {
      "cell_type": "code",
      "source": [
        "X_train.shape, df_test.shape"
      ],
      "metadata": {
        "colab": {
          "base_uri": "https://localhost:8080/"
        },
        "id": "RDnreTFwom_f",
        "outputId": "c015f1e3-3583-4cc8-afde-a067fdb9c5ff"
      },
      "execution_count": null,
      "outputs": [
        {
          "output_type": "execute_result",
          "data": {
            "text/plain": [
              "((401125, 102), (12457, 101))"
            ]
          },
          "metadata": {},
          "execution_count": 127
        }
      ]
    },
    {
      "cell_type": "code",
      "source": [
        "# We can find how the columns differ using set\n",
        "set(X_train.columns) - set(df_test.columns)"
      ],
      "metadata": {
        "colab": {
          "base_uri": "https://localhost:8080/"
        },
        "id": "1cpA3TFhpHxG",
        "outputId": "61c2bcca-a6c9-4124-b2bd-68811fd80936"
      },
      "execution_count": null,
      "outputs": [
        {
          "output_type": "execute_result",
          "data": {
            "text/plain": [
              "{'auctioneerID_is_missing'}"
            ]
          },
          "metadata": {},
          "execution_count": 128
        }
      ]
    },
    {
      "cell_type": "markdown",
      "source": [
        "X_train, X_test differ shape because test set doesn't have `auctioneerID`"
      ],
      "metadata": {
        "id": "BCy9ya-joxvm"
      }
    },
    {
      "cell_type": "code",
      "source": [
        "# Manually adjust df_test to have auctioneerID_is_missing column\n",
        "df_test[\"auctioneerID_is_missing\"] = False\n",
        "df_test.shape"
      ],
      "metadata": {
        "colab": {
          "base_uri": "https://localhost:8080/"
        },
        "id": "yY3qiZZXpcWu",
        "outputId": "f74f1787-e4b9-4e57-dc56-5995335df1d9"
      },
      "execution_count": null,
      "outputs": [
        {
          "output_type": "execute_result",
          "data": {
            "text/plain": [
              "(12457, 102)"
            ]
          },
          "metadata": {},
          "execution_count": 129
        }
      ]
    },
    {
      "cell_type": "markdown",
      "source": [
        "Finally now our test dataframe has the same features as our training dataframe, we can make predictions!"
      ],
      "metadata": {
        "id": "ZFEljYf5pnaH"
      }
    },
    {
      "cell_type": "code",
      "source": [
        "# Make predicitons on updated test date\n",
        "test_preds = ideal_model.predict(df_test)"
      ],
      "metadata": {
        "colab": {
          "base_uri": "https://localhost:8080/",
          "height": 346
        },
        "id": "p6uk-urwotn-",
        "outputId": "e35d5b9b-9253-4da6-ada4-386301662470"
      },
      "execution_count": null,
      "outputs": [
        {
          "output_type": "error",
          "ename": "ValueError",
          "evalue": "ignored",
          "traceback": [
            "\u001b[0;31m---------------------------------------------------------------------------\u001b[0m",
            "\u001b[0;31mValueError\u001b[0m                                Traceback (most recent call last)",
            "\u001b[0;32m<ipython-input-130-0adb1cfa6f27>\u001b[0m in \u001b[0;36m<module>\u001b[0;34m\u001b[0m\n\u001b[1;32m      1\u001b[0m \u001b[0;31m# Make predicitons on updated test date\u001b[0m\u001b[0;34m\u001b[0m\u001b[0;34m\u001b[0m\u001b[0;34m\u001b[0m\u001b[0m\n\u001b[0;32m----> 2\u001b[0;31m \u001b[0mtest_preds\u001b[0m \u001b[0;34m=\u001b[0m \u001b[0mideal_model\u001b[0m\u001b[0;34m.\u001b[0m\u001b[0mpredict\u001b[0m\u001b[0;34m(\u001b[0m\u001b[0mdf_test\u001b[0m\u001b[0;34m)\u001b[0m\u001b[0;34m\u001b[0m\u001b[0;34m\u001b[0m\u001b[0m\n\u001b[0m",
            "\u001b[0;32m/usr/local/lib/python3.8/dist-packages/sklearn/ensemble/_forest.py\u001b[0m in \u001b[0;36mpredict\u001b[0;34m(self, X)\u001b[0m\n\u001b[1;32m    979\u001b[0m         \u001b[0mcheck_is_fitted\u001b[0m\u001b[0;34m(\u001b[0m\u001b[0mself\u001b[0m\u001b[0;34m)\u001b[0m\u001b[0;34m\u001b[0m\u001b[0;34m\u001b[0m\u001b[0m\n\u001b[1;32m    980\u001b[0m         \u001b[0;31m# Check data\u001b[0m\u001b[0;34m\u001b[0m\u001b[0;34m\u001b[0m\u001b[0;34m\u001b[0m\u001b[0m\n\u001b[0;32m--> 981\u001b[0;31m         \u001b[0mX\u001b[0m \u001b[0;34m=\u001b[0m \u001b[0mself\u001b[0m\u001b[0;34m.\u001b[0m\u001b[0m_validate_X_predict\u001b[0m\u001b[0;34m(\u001b[0m\u001b[0mX\u001b[0m\u001b[0;34m)\u001b[0m\u001b[0;34m\u001b[0m\u001b[0;34m\u001b[0m\u001b[0m\n\u001b[0m\u001b[1;32m    982\u001b[0m \u001b[0;34m\u001b[0m\u001b[0m\n\u001b[1;32m    983\u001b[0m         \u001b[0;31m# Assign chunk of trees to jobs\u001b[0m\u001b[0;34m\u001b[0m\u001b[0;34m\u001b[0m\u001b[0;34m\u001b[0m\u001b[0m\n",
            "\u001b[0;32m/usr/local/lib/python3.8/dist-packages/sklearn/ensemble/_forest.py\u001b[0m in \u001b[0;36m_validate_X_predict\u001b[0;34m(self, X)\u001b[0m\n\u001b[1;32m    600\u001b[0m         Validate X whenever one tries to predict, apply, predict_proba.\"\"\"\n\u001b[1;32m    601\u001b[0m         \u001b[0mcheck_is_fitted\u001b[0m\u001b[0;34m(\u001b[0m\u001b[0mself\u001b[0m\u001b[0;34m)\u001b[0m\u001b[0;34m\u001b[0m\u001b[0;34m\u001b[0m\u001b[0m\n\u001b[0;32m--> 602\u001b[0;31m         \u001b[0mX\u001b[0m \u001b[0;34m=\u001b[0m \u001b[0mself\u001b[0m\u001b[0;34m.\u001b[0m\u001b[0m_validate_data\u001b[0m\u001b[0;34m(\u001b[0m\u001b[0mX\u001b[0m\u001b[0;34m,\u001b[0m \u001b[0mdtype\u001b[0m\u001b[0;34m=\u001b[0m\u001b[0mDTYPE\u001b[0m\u001b[0;34m,\u001b[0m \u001b[0maccept_sparse\u001b[0m\u001b[0;34m=\u001b[0m\u001b[0;34m\"csr\"\u001b[0m\u001b[0;34m,\u001b[0m \u001b[0mreset\u001b[0m\u001b[0;34m=\u001b[0m\u001b[0;32mFalse\u001b[0m\u001b[0;34m)\u001b[0m\u001b[0;34m\u001b[0m\u001b[0;34m\u001b[0m\u001b[0m\n\u001b[0m\u001b[1;32m    603\u001b[0m         \u001b[0;32mif\u001b[0m \u001b[0missparse\u001b[0m\u001b[0;34m(\u001b[0m\u001b[0mX\u001b[0m\u001b[0;34m)\u001b[0m \u001b[0;32mand\u001b[0m \u001b[0;34m(\u001b[0m\u001b[0mX\u001b[0m\u001b[0;34m.\u001b[0m\u001b[0mindices\u001b[0m\u001b[0;34m.\u001b[0m\u001b[0mdtype\u001b[0m \u001b[0;34m!=\u001b[0m \u001b[0mnp\u001b[0m\u001b[0;34m.\u001b[0m\u001b[0mintc\u001b[0m \u001b[0;32mor\u001b[0m \u001b[0mX\u001b[0m\u001b[0;34m.\u001b[0m\u001b[0mindptr\u001b[0m\u001b[0;34m.\u001b[0m\u001b[0mdtype\u001b[0m \u001b[0;34m!=\u001b[0m \u001b[0mnp\u001b[0m\u001b[0;34m.\u001b[0m\u001b[0mintc\u001b[0m\u001b[0;34m)\u001b[0m\u001b[0;34m:\u001b[0m\u001b[0;34m\u001b[0m\u001b[0;34m\u001b[0m\u001b[0m\n\u001b[1;32m    604\u001b[0m             \u001b[0;32mraise\u001b[0m \u001b[0mValueError\u001b[0m\u001b[0;34m(\u001b[0m\u001b[0;34m\"No support for np.int64 index based sparse matrices\"\u001b[0m\u001b[0;34m)\u001b[0m\u001b[0;34m\u001b[0m\u001b[0;34m\u001b[0m\u001b[0m\n",
            "\u001b[0;32m/usr/local/lib/python3.8/dist-packages/sklearn/base.py\u001b[0m in \u001b[0;36m_validate_data\u001b[0;34m(self, X, y, reset, validate_separately, **check_params)\u001b[0m\n\u001b[1;32m    527\u001b[0m             \u001b[0mvalidated\u001b[0m\u001b[0;34m.\u001b[0m\u001b[0;34m\u001b[0m\u001b[0;34m\u001b[0m\u001b[0m\n\u001b[1;32m    528\u001b[0m         \"\"\"\n\u001b[0;32m--> 529\u001b[0;31m         \u001b[0mself\u001b[0m\u001b[0;34m.\u001b[0m\u001b[0m_check_feature_names\u001b[0m\u001b[0;34m(\u001b[0m\u001b[0mX\u001b[0m\u001b[0;34m,\u001b[0m \u001b[0mreset\u001b[0m\u001b[0;34m=\u001b[0m\u001b[0mreset\u001b[0m\u001b[0;34m)\u001b[0m\u001b[0;34m\u001b[0m\u001b[0;34m\u001b[0m\u001b[0m\n\u001b[0m\u001b[1;32m    530\u001b[0m \u001b[0;34m\u001b[0m\u001b[0m\n\u001b[1;32m    531\u001b[0m         \u001b[0;32mif\u001b[0m \u001b[0my\u001b[0m \u001b[0;32mis\u001b[0m \u001b[0;32mNone\u001b[0m \u001b[0;32mand\u001b[0m \u001b[0mself\u001b[0m\u001b[0;34m.\u001b[0m\u001b[0m_get_tags\u001b[0m\u001b[0;34m(\u001b[0m\u001b[0;34m)\u001b[0m\u001b[0;34m[\u001b[0m\u001b[0;34m\"requires_y\"\u001b[0m\u001b[0;34m]\u001b[0m\u001b[0;34m:\u001b[0m\u001b[0;34m\u001b[0m\u001b[0;34m\u001b[0m\u001b[0m\n",
            "\u001b[0;32m/usr/local/lib/python3.8/dist-packages/sklearn/base.py\u001b[0m in \u001b[0;36m_check_feature_names\u001b[0;34m(self, X, reset)\u001b[0m\n\u001b[1;32m    460\u001b[0m                 )\n\u001b[1;32m    461\u001b[0m \u001b[0;34m\u001b[0m\u001b[0m\n\u001b[0;32m--> 462\u001b[0;31m             \u001b[0;32mraise\u001b[0m \u001b[0mValueError\u001b[0m\u001b[0;34m(\u001b[0m\u001b[0mmessage\u001b[0m\u001b[0;34m)\u001b[0m\u001b[0;34m\u001b[0m\u001b[0;34m\u001b[0m\u001b[0m\n\u001b[0m\u001b[1;32m    463\u001b[0m \u001b[0;34m\u001b[0m\u001b[0m\n\u001b[1;32m    464\u001b[0m     def _validate_data(\n",
            "\u001b[0;31mValueError\u001b[0m: The feature names should match those that were passed during fit.\nFeature names must be in the same order as they were in fit.\n"
          ]
        }
      ]
    },
    {
      "cell_type": "code",
      "source": [
        "test_preds"
      ],
      "metadata": {
        "id": "TgeWN_-up2m8"
      },
      "execution_count": null,
      "outputs": []
    }
  ]
}